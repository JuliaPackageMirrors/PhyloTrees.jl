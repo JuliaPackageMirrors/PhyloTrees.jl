{
 "cells": [
  {
   "cell_type": "markdown",
   "metadata": {},
   "source": [
    "# 1.0 Getting started"
   ]
  },
  {
   "cell_type": "markdown",
   "metadata": {},
   "source": [
    "## 1.1 Package installation"
   ]
  },
  {
   "cell_type": "code",
   "execution_count": 1,
   "metadata": {
    "collapsed": false
   },
   "outputs": [],
   "source": [
    "# Pkg.add(\"PhyloTrees\")"
   ]
  },
  {
   "cell_type": "markdown",
   "metadata": {},
   "source": [
    "## 1.2 Loading of package"
   ]
  },
  {
   "cell_type": "code",
   "execution_count": 2,
   "metadata": {
    "collapsed": true
   },
   "outputs": [],
   "source": [
    "using PhyloTrees"
   ]
  },
  {
   "cell_type": "markdown",
   "metadata": {},
   "source": [
    "\n",
    "\n",
    "# 2.0 Tree construction"
   ]
  },
  {
   "cell_type": "markdown",
   "metadata": {},
   "source": [
    "## 2.1 Tree initialization"
   ]
  },
  {
   "cell_type": "code",
   "execution_count": 3,
   "metadata": {
    "collapsed": false
   },
   "outputs": [
    {
     "data": {
      "text/plain": [
       "\r",
       "\u001b[0mPhylogenetic tree with 1 nodes and 0 branches"
      ]
     },
     "execution_count": 3,
     "metadata": {},
     "output_type": "execute_result"
    }
   ],
   "source": [
    "# Initializes a tree with a single node\n",
    "tree_demo1 = Tree()"
   ]
  },
  {
   "cell_type": "code",
   "execution_count": 4,
   "metadata": {
    "collapsed": false
   },
   "outputs": [
    {
     "data": {
      "text/plain": [
       "\r",
       "\u001b[0mPhylogenetic tree with 3 nodes and 0 branches"
      ]
     },
     "execution_count": 4,
     "metadata": {},
     "output_type": "execute_result"
    }
   ],
   "source": [
    "# Initializes a tree with a specified number of nodes\n",
    "tree_demo2 = Tree(3)"
   ]
  },
  {
   "cell_type": "markdown",
   "metadata": {},
   "source": [
    "## 2.2 Nodes"
   ]
  },
  {
   "cell_type": "code",
   "execution_count": 5,
   "metadata": {
    "collapsed": false
   },
   "outputs": [
    {
     "data": {
      "text/plain": [
       "\r",
       "\u001b[0mPhylogenetic tree with 2 nodes and 0 branches"
      ]
     },
     "execution_count": 5,
     "metadata": {},
     "output_type": "execute_result"
    }
   ],
   "source": [
    "# Adds a single node to a tree\n",
    "addnode!(tree_demo1)"
   ]
  },
  {
   "cell_type": "code",
   "execution_count": 6,
   "metadata": {
    "collapsed": false
   },
   "outputs": [
    {
     "ename": "LoadError",
     "evalue": "LoadError: UndefVarError: addnodes not defined\nwhile loading In[6], in expression starting on line 2",
     "output_type": "error",
     "traceback": [
      "LoadError: UndefVarError: addnodes not defined\nwhile loading In[6], in expression starting on line 2",
      ""
     ]
    }
   ],
   "source": [
    "# Adds a specified number of nodes to a tree\n",
    "addnodes(tree_demo2, 5)"
   ]
  },
  {
   "cell_type": "code",
   "execution_count": 7,
   "metadata": {
    "collapsed": false
   },
   "outputs": [
    {
     "data": {
      "text/plain": [
       "2-element Array{PhyloTrees.Node,1}:\n",
       " \n",
       " "
      ]
     },
     "execution_count": 7,
     "metadata": {},
     "output_type": "execute_result"
    }
   ],
   "source": [
    "# Access or views the nodes of a tree\n",
    "tree_demo1.nodes"
   ]
  },
  {
   "cell_type": "markdown",
   "metadata": {},
   "source": [
    "## 2.3 Branches"
   ]
  },
  {
   "cell_type": "code",
   "execution_count": 8,
   "metadata": {
    "collapsed": false
   },
   "outputs": [
    {
     "data": {
      "text/plain": [
       "\r",
       "\u001b[0mPhylogenetic tree with 2 nodes and 1 branches"
      ]
     },
     "execution_count": 8,
     "metadata": {},
     "output_type": "execute_result"
    }
   ],
   "source": [
    "# Adds a branch between a source and target node, of a specified length to a tree\n",
    "addbranch!(tree_demo1, 1, 2, 10.0)"
   ]
  },
  {
   "cell_type": "code",
   "execution_count": 9,
   "metadata": {
    "collapsed": false
   },
   "outputs": [
    {
     "data": {
      "text/plain": [
       "\r",
       "\u001b[0mPhylogenetic tree with 3 nodes and 2 branches"
      ]
     },
     "execution_count": 9,
     "metadata": {},
     "output_type": "execute_result"
    }
   ],
   "source": [
    "# Attaches a branch of a specified length to a source node, which terminates to a new node\n",
    "branch!(tree_demo1, 1, 5.0)"
   ]
  },
  {
   "cell_type": "code",
   "execution_count": 10,
   "metadata": {
    "collapsed": false
   },
   "outputs": [
    {
     "data": {
      "text/plain": [
       "2-element Array{PhyloTrees.Branch,1}:\n",
       " \r",
       "\u001b[0m[node 1]-->[\u001b[1m10.0 branch\u001b[0m]-->[node 2]\n",
       " \r",
       "\u001b[0m[node 1]-->[\u001b[1m5.0 branch\u001b[0m]-->[node 3] "
      ]
     },
     "execution_count": 10,
     "metadata": {},
     "output_type": "execute_result"
    }
   ],
   "source": [
    "# Access or view the `branches` contained within a tree`\n",
    "tree_demo1.branches"
   ]
  },
  {
   "cell_type": "markdown",
   "metadata": {},
   "source": [
    "## 2.4 Subtrees"
   ]
  },
  {
   "cell_type": "code",
   "execution_count": 11,
   "metadata": {
    "collapsed": false
   },
   "outputs": [
    {
     "data": {
      "text/plain": [
       "\r",
       "\u001b[0mPhylogenetic tree with 3 nodes and 2 branches"
      ]
     },
     "execution_count": 11,
     "metadata": {},
     "output_type": "execute_result"
    }
   ],
   "source": [
    "# Extracts the subtree from a specified node in an exisiting tree\n",
    "subtree_demo1 = subtree(tree_demo1, 1)"
   ]
  },
  {
   "cell_type": "code",
   "execution_count": 12,
   "metadata": {
    "collapsed": false
   },
   "outputs": [
    {
     "data": {
      "text/plain": [
       "\r",
       "\u001b[0mPhylogenetic tree with 6 nodes and 5 branches"
      ]
     },
     "execution_count": 12,
     "metadata": {},
     "output_type": "execute_result"
    }
   ],
   "source": [
    "# Adds a subtree to an existing tree\n",
    "addsubtree!(tree_demo1, subtree_demo1)\n",
    "\n",
    "# Adds a branch of a specified length connecting the newly added subtree\n",
    "addbranch!(tree_demo1, 2, 4, 17.0)"
   ]
  },
  {
   "cell_type": "markdown",
   "metadata": {},
   "source": [
    "# 3.0 Utilities"
   ]
  },
  {
   "cell_type": "markdown",
   "metadata": {},
   "source": [
    "## 3.1 Node types"
   ]
  },
  {
   "cell_type": "code",
   "execution_count": 13,
   "metadata": {
    "collapsed": false
   },
   "outputs": [
    {
     "data": {
      "text/plain": [
       "3-element Array{Bool,1}:\n",
       "  true\n",
       " false\n",
       " false"
      ]
     },
     "execution_count": 13,
     "metadata": {},
     "output_type": "execute_result"
    }
   ],
   "source": [
    "# Determines if a node is a root, leaf, or internal node respectively\n",
    "[isroot(tree_demo1, 1), \n",
    " isleaf(tree_demo1, 1),\n",
    " isnode(tree_demo1, 1)]"
   ]
  },
  {
   "cell_type": "code",
   "execution_count": 14,
   "metadata": {
    "collapsed": false
   },
   "outputs": [
    {
     "data": {
      "text/plain": [
       "\"Root\""
      ]
     },
     "execution_count": 14,
     "metadata": {},
     "output_type": "execute_result"
    }
   ],
   "source": [
    "# Returns the type of node (root node, leaf node, or internal node)\n",
    "nodetype(tree_demo1, 1)"
   ]
  },
  {
   "cell_type": "code",
   "execution_count": 15,
   "metadata": {
    "collapsed": false
   },
   "outputs": [
    {
     "name": "stdout",
     "output_type": "stream",
     "text": [
      "Roots: [1]\n",
      "Leaves: [3,5,6]\n",
      "Nodes: [2,4]\n"
     ]
    }
   ],
   "source": [
    "# Determine which nodes are roots, leaves, or internal nodes respectively\n",
    "println(\"Roots: $(findroots(tree_demo1))\")\n",
    "println(\"Leaves: $(findleaves(tree_demo1))\")\n",
    "println(\"Nodes: $(findnodes(tree_demo1))\")\n"
   ]
  },
  {
   "cell_type": "code",
   "execution_count": 16,
   "metadata": {
    "collapsed": false
   },
   "outputs": [
    {
     "data": {
      "text/plain": [
       "15.0"
      ]
     },
     "execution_count": 16,
     "metadata": {},
     "output_type": "execute_result"
    }
   ],
   "source": [
    "# Calculates the branch distance between any two nodes on a tree\n",
    "distance(tree_demo1, 2, 3)"
   ]
  },
  {
   "cell_type": "markdown",
   "metadata": {},
   "source": [
    "## 3.2 Node relationships"
   ]
  },
  {
   "cell_type": "code",
   "execution_count": 17,
   "metadata": {
    "collapsed": false
   },
   "outputs": [
    {
     "data": {
      "text/plain": [
       "true"
      ]
     },
     "execution_count": 17,
     "metadata": {},
     "output_type": "execute_result"
    }
   ],
   "source": [
    "# Determines if two nodes are connected either directly or indirectly\n",
    "areconnected(tree_demo1, 1, 2)"
   ]
  },
  {
   "cell_type": "code",
   "execution_count": 18,
   "metadata": {
    "collapsed": false
   },
   "outputs": [
    {
     "data": {
      "text/plain": [
       "2-element Array{Int64,1}:\n",
       " 1\n",
       " 2"
      ]
     },
     "execution_count": 18,
     "metadata": {},
     "output_type": "execute_result"
    }
   ],
   "source": [
    "# If two nodes are connected, determines the \"node path\" which connects them\n",
    "nodepath(tree_demo1, 1, 2)"
   ]
  },
  {
   "cell_type": "code",
   "execution_count": 19,
   "metadata": {
    "collapsed": false
   },
   "outputs": [
    {
     "data": {
      "text/plain": [
       "1-element Array{Any,1}:\n",
       " 1"
      ]
     },
     "execution_count": 19,
     "metadata": {},
     "output_type": "execute_result"
    }
   ],
   "source": [
    "# If two nodes are connected, determines the \"branch path\" which connects them\n",
    "branchpath(tree_demo1, 1, 2)"
   ]
  },
  {
   "cell_type": "code",
   "execution_count": 20,
   "metadata": {
    "collapsed": false
   },
   "outputs": [
    {
     "data": {
      "text/plain": [
       "1"
      ]
     },
     "execution_count": 20,
     "metadata": {},
     "output_type": "execute_result"
    }
   ],
   "source": [
    "# Lists the parent node associated with a specified node\n",
    "parentnode(tree_demo1, 2)"
   ]
  },
  {
   "cell_type": "code",
   "execution_count": 21,
   "metadata": {
    "collapsed": false
   },
   "outputs": [
    {
     "data": {
      "text/plain": [
       "1-element Array{Int64,1}:\n",
       " 1"
      ]
     },
     "execution_count": 21,
     "metadata": {},
     "output_type": "execute_result"
    }
   ],
   "source": [
    "# Lists all the ancestor nodes associated with a specified node\n",
    "ancestornodes(tree_demo1, 2)"
   ]
  },
  {
   "cell_type": "code",
   "execution_count": 22,
   "metadata": {
    "collapsed": false
   },
   "outputs": [
    {
     "data": {
      "text/plain": [
       "1"
      ]
     },
     "execution_count": 22,
     "metadata": {},
     "output_type": "execute_result"
    }
   ],
   "source": [
    "# Lists the number of ancestors a specified node has\n",
    "ancestorcount(tree_demo1, 2)"
   ]
  },
  {
   "cell_type": "code",
   "execution_count": 23,
   "metadata": {
    "collapsed": false
   },
   "outputs": [
    {
     "data": {
      "text/plain": [
       "2-element Array{Int64,1}:\n",
       " 2\n",
       " 3"
      ]
     },
     "execution_count": 23,
     "metadata": {},
     "output_type": "execute_result"
    }
   ],
   "source": [
    "# Lists all the child nodes associated with a specified node\n",
    "childnodes(tree_demo1, 1)"
   ]
  },
  {
   "cell_type": "code",
   "execution_count": 24,
   "metadata": {
    "collapsed": false
   },
   "outputs": [
    {
     "data": {
      "text/plain": [
       "5-element Array{Int64,1}:\n",
       " 2\n",
       " 3\n",
       " 4\n",
       " 5\n",
       " 6"
      ]
     },
     "execution_count": 24,
     "metadata": {},
     "output_type": "execute_result"
    }
   ],
   "source": [
    "# Lists all the descendant nodes associated with a specified node\n",
    "descendantnodes(tree_demo1, 1)"
   ]
  },
  {
   "cell_type": "code",
   "execution_count": 25,
   "metadata": {
    "collapsed": false
   },
   "outputs": [
    {
     "data": {
      "text/plain": [
       "5"
      ]
     },
     "execution_count": 25,
     "metadata": {},
     "output_type": "execute_result"
    }
   ],
   "source": [
    "# Lists the number of descendants a specified node has\n",
    "descendantcount(tree_demo1, 1)"
   ]
  },
  {
   "cell_type": "markdown",
   "metadata": {},
   "source": [
    "# 4.0 Plotting"
   ]
  },
  {
   "cell_type": "code",
   "execution_count": 26,
   "metadata": {
    "collapsed": false
   },
   "outputs": [
    {
     "data": {
      "image/png": "[encoded data removed]",
      "text/plain": [
       "PyPlot.Figure(PyObject <matplotlib.figure.Figure object at 0x313566e80>)"
      ]
     },
     "metadata": {},
     "output_type": "display_data"
    },
    {
     "data": {
      "text/plain": [
       "(Any[],Any[])"
      ]
     },
     "execution_count": 26,
     "metadata": {},
     "output_type": "execute_result"
    }
   ],
   "source": [
    "# We'll increase tree complexity a bit first...\n",
    "branch!(tree_demo1, 2, 8.0)\n",
    "addsubtree!(tree_demo1, subtree(tree_demo1, 1))\n",
    "addbranch!(tree_demo1, 3, 8, 11.0)\n",
    "branch!(tree_demo1, 3, 21.0)\n",
    "\n",
    "# Plots the tree\n",
    "plot(tree_demo1)"
   ]
  },
  {
   "cell_type": "markdown",
   "metadata": {},
   "source": [
    "# 5.0 Simulation"
   ]
  },
  {
   "cell_type": "code",
   "execution_count": 27,
   "metadata": {
    "collapsed": false
   },
   "outputs": [
    {
     "data": {
      "text/plain": [
       "15-element Array{PhyloTrees.Node,1}:\n",
       " \r",
       "\u001b[0m[\u001b[1mroot node\u001b[0m]-->[branch 1]\n",
       "\u001b[0m           -->[branch 2]                                    \n",
       " \r",
       "\u001b[0m[branch 1]-->[\u001b[1minternal node\u001b[0m]-->[branch 5]\n",
       "\u001b[0m                            -->[branch 6]  \n",
       " \r",
       "\u001b[0m[branch 2]-->[\u001b[1minternal node\u001b[0m]-->[branch 13]\n",
       "\u001b[0m                            -->[branch 14]\n",
       " \r",
       "\u001b[0m[branch 5]-->[\u001b[1minternal node\u001b[0m]-->[branch 3]\n",
       "\u001b[0m                            -->[branch 4]  \n",
       " \r",
       "\u001b[0m[branch 3]-->[\u001b[1mleaf node\u001b[0m]                                                                 \n",
       " \r",
       "\u001b[0m[branch 4]-->[\u001b[1mleaf node\u001b[0m]                                                                 \n",
       " \r",
       "\u001b[0m[branch 6]-->[\u001b[1mleaf node\u001b[0m]                                                                 \n",
       " \r",
       "\u001b[0m[branch 13]-->[\u001b[1minternal node\u001b[0m]-->[branch 7]\n",
       "\u001b[0m                             -->[branch 8]\n",
       " \r",
       "\u001b[0m[branch 7]-->[\u001b[1minternal node\u001b[0m]-->[branch 9]\n",
       "\u001b[0m                            -->[branch 10] \n",
       " \r",
       "\u001b[0m[branch 8]-->[\u001b[1mleaf node\u001b[0m]                                                                 \n",
       " \r",
       "\u001b[0m[branch 9]-->[\u001b[1minternal node\u001b[0m]-->[branch 11]\n",
       "\u001b[0m                            -->[branch 12]\n",
       " \r",
       "\u001b[0m[branch 10]-->[\u001b[1mleaf node\u001b[0m]                                                                \n",
       " \r",
       "\u001b[0m[branch 11]-->[\u001b[1mleaf node\u001b[0m]                                                                \n",
       " \r",
       "\u001b[0m[branch 12]-->[\u001b[1mleaf node\u001b[0m]                                                                \n",
       " \r",
       "\u001b[0m[branch 14]-->[\u001b[1mleaf node\u001b[0m]                                                                "
      ]
     },
     "execution_count": 27,
     "metadata": {},
     "output_type": "execute_result"
    }
   ],
   "source": [
    "tree_demo1.nodes"
   ]
  },
  {
   "cell_type": "markdown",
   "metadata": {},
   "source": [
    "## 5.1 Substitution models"
   ]
  },
  {
   "cell_type": "code",
   "execution_count": 28,
   "metadata": {
    "collapsed": false
   },
   "outputs": [
    {
     "data": {
      "text/plain": [
       "\r",
       "\u001b[0m\u001b[1mJ\u001b[0mukes and \u001b[1mC\u001b[0mantor 19\u001b[1m69\u001b[0m substitution model\n",
       "\n",
       "4x4 Array{Float64,2}:\n",
       " -3.0   1.0   1.0   1.0\n",
       "  1.0  -3.0   1.0   1.0\n",
       "  1.0   1.0  -3.0   1.0\n",
       "  1.0   1.0   1.0  -3.0"
      ]
     },
     "execution_count": 28,
     "metadata": {},
     "output_type": "execute_result"
    }
   ],
   "source": [
    "# Generates the relative rate formulation of the JC69 substitution model \n",
    "JC69_demo = JC69()\n",
    "\n",
    "# See PhyloTrees/src/mutation/ for several additional substitution models"
   ]
  },
  {
   "cell_type": "markdown",
   "metadata": {},
   "source": [
    "## 5.2 DNA sequence generation"
   ]
  },
  {
   "cell_type": "code",
   "execution_count": 29,
   "metadata": {
    "collapsed": false
   },
   "outputs": [
    {
     "data": {
      "text/plain": [
       "4x1000x15 Array{Bool,3}:\n",
       "[:, :, 1] =\n",
       " false   true   true  false  false  …  false  false  false  false  false\n",
       " false  false  false  false  false      true  false  false  false  false\n",
       " false  false  false  false  false     false  false   true   true  false\n",
       "  true  false  false   true   true     false   true  false  false   true\n",
       "\n",
       "[:, :, 2] =\n",
       " false  false  false   true  false  …  false   true  false  false  false\n",
       "  true  false   true  false  false     false  false  false  false  false\n",
       " false  false  false  false  false      true  false   true   true   true\n",
       " false   true  false  false   true     false  false  false  false  false\n",
       "\n",
       "[:, :, 3] =\n",
       " false  false  false   true  false  …  false   true   true   true   true\n",
       "  true  false   true  false   true     false  false  false  false  false\n",
       " false   true  false  false  false     false  false  false  false  false\n",
       " false  false  false  false  false      true  false  false  false  false\n",
       "\n",
       "...\n",
       "\n",
       "[:, :, 13] =\n",
       " false  false   true   true  false  …   true   true   true   true  false\n",
       " false  false  false  false   true     false  false  false  false   true\n",
       "  true  false  false  false  false     false  false  false  false  false\n",
       " false   true  false  false  false     false  false  false  false  false\n",
       "\n",
       "[:, :, 14] =\n",
       " false  false  false  false   true  …   true  false  false  false   true\n",
       "  true   true  false  false  false     false  false   true  false  false\n",
       " false  false  false   true  false     false   true  false   true  false\n",
       " false  false   true  false  false     false  false  false  false  false\n",
       "\n",
       "[:, :, 15] =\n",
       " false  false  false  false  false  …  false  false  false  false  false\n",
       "  true   true  false  false   true     false   true  false   true  false\n",
       " false  false   true  false  false     false  false  false  false  false\n",
       " false  false  false   true  false      true  false   true  false   true"
      ]
     },
     "execution_count": 29,
     "metadata": {},
     "output_type": "execute_result"
    }
   ],
   "source": [
    "# Generates DNA sequence data for nodes of a tree.\n",
    "seqdemo = simulate(tree_demo1, JC69_demo, 1000)\n",
    "\n",
    "# DNA sequences are represented as 4 by N bit arrays for each node.\n",
    "\n",
    "# The initial (root) sequence may be specified or generated.\n",
    "\n",
    "# Site rates may be constant or variable. \n",
    "\n",
    "# If the initial sequence is to be generated, the base frequencies \n",
    "# of the supplied substitution model are utilized."
   ]
  }
 ],
 "metadata": {
  "kernelspec": {
   "display_name": "Julia 0.4.5",
   "language": "julia",
   "name": "julia-0.4"
  },
  "language_info": {
   "file_extension": ".jl",
   "mimetype": "application/julia",
   "name": "julia",
   "version": "0.4.5"
  }
 },
 "nbformat": 4,
 "nbformat_minor": 0
}
