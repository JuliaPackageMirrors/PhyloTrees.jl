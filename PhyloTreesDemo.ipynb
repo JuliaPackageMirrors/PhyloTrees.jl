{
 "cells": [
  {
   "cell_type": "markdown",
   "metadata": {},
   "source": [
    "Load the PhyloTrees package"
   ]
  },
  {
   "cell_type": "code",
   "execution_count": 1,
   "metadata": {
    "collapsed": true
   },
   "outputs": [],
   "source": [
    "using PhyloTrees"
   ]
  },
  {
   "cell_type": "markdown",
   "metadata": {},
   "source": [
    "Initialize a phylogenetic tree with a single root node"
   ]
  },
  {
   "cell_type": "code",
   "execution_count": 2,
   "metadata": {
    "collapsed": false
   },
   "outputs": [
    {
     "data": {
      "text/plain": [
       "\r",
       "\u001b[0mPhylogenetic tree with 1 nodes and 0 branches"
      ]
     },
     "execution_count": 2,
     "metadata": {},
     "output_type": "execute_result"
    }
   ],
   "source": [
    "treedemo = Tree()"
   ]
  },
  {
   "cell_type": "markdown",
   "metadata": {},
   "source": [
    "Add an unattached node"
   ]
  },
  {
   "cell_type": "code",
   "execution_count": 3,
   "metadata": {
    "collapsed": false
   },
   "outputs": [
    {
     "data": {
      "text/plain": [
       "\r",
       "\u001b[0mPhylogenetic tree with 2 nodes and 0 branches"
      ]
     },
     "execution_count": 3,
     "metadata": {},
     "output_type": "execute_result"
    }
   ],
   "source": [
    "addnode!(treedemo)"
   ]
  },
  {
   "cell_type": "markdown",
   "metadata": {},
   "source": [
    "Add a branch between the two nodes"
   ]
  },
  {
   "cell_type": "code",
   "execution_count": 4,
   "metadata": {
    "collapsed": false
   },
   "outputs": [
    {
     "data": {
      "text/plain": [
       "\r",
       "\u001b[0mPhylogenetic tree with 2 nodes and 1 branches"
      ]
     },
     "execution_count": 4,
     "metadata": {},
     "output_type": "execute_result"
    }
   ],
   "source": [
    "addbranch!(treedemo, 1, 2, 10.0)"
   ]
  },
  {
   "cell_type": "markdown",
   "metadata": {},
   "source": [
    "Alternatively, we may add a branch that terminates at a new node with a single function"
   ]
  },
  {
   "cell_type": "code",
   "execution_count": 5,
   "metadata": {
    "collapsed": false
   },
   "outputs": [
    {
     "data": {
      "text/plain": [
       "\r",
       "\u001b[0mPhylogenetic tree with 3 nodes and 2 branches"
      ]
     },
     "execution_count": 5,
     "metadata": {},
     "output_type": "execute_result"
    }
   ],
   "source": [
    "branch!(treedemo, 1, 5.0)"
   ]
  },
  {
   "cell_type": "markdown",
   "metadata": {},
   "source": [
    "We can extract a subtree from any point in a tree"
   ]
  },
  {
   "cell_type": "code",
   "execution_count": 6,
   "metadata": {
    "collapsed": false
   },
   "outputs": [
    {
     "data": {
      "text/plain": [
       "\r",
       "\u001b[0mPhylogenetic tree with 3 nodes and 2 branches"
      ]
     },
     "execution_count": 6,
     "metadata": {},
     "output_type": "execute_result"
    }
   ],
   "source": [
    "subtreedemo = subtree(treedemo, 1)"
   ]
  },
  {
   "cell_type": "markdown",
   "metadata": {},
   "source": [
    "And we can add entire subtrees to a phylogenetic tree as well"
   ]
  },
  {
   "cell_type": "code",
   "execution_count": 7,
   "metadata": {
    "collapsed": false
   },
   "outputs": [
    {
     "data": {
      "text/plain": [
       "\r",
       "\u001b[0mPhylogenetic tree with 6 nodes and 5 branches"
      ]
     },
     "execution_count": 7,
     "metadata": {},
     "output_type": "execute_result"
    }
   ],
   "source": [
    "addsubtree!(treedemo, subtreedemo)\n",
    "addbranch!(treedemo, 2, 4, 17.0)"
   ]
  },
  {
   "cell_type": "markdown",
   "metadata": {},
   "source": [
    "Tree objects have `nodes` and `branches`, we can view each of these"
   ]
  },
  {
   "cell_type": "code",
   "execution_count": 8,
   "metadata": {
    "collapsed": false
   },
   "outputs": [
    {
     "data": {
      "text/plain": [
       "6-element Array{PhyloTrees.Node,1}:\n",
       " \r",
       "\u001b[0m[\u001b[1mroot node\u001b[0m]-->[branch 1]\n",
       "\u001b[0m           -->[branch 2]                                  \n",
       " \r",
       "\u001b[0m[branch 1]-->[\u001b[1minternal node\u001b[0m]-->[branch 5]                                              \n",
       " \r",
       "\u001b[0m[branch 2]-->[\u001b[1mleaf node\u001b[0m]                                                               \n",
       " \r",
       "\u001b[0m[branch 5]-->[\u001b[1minternal node\u001b[0m]-->[branch 3]\n",
       "\u001b[0m                            -->[branch 4]\n",
       " \r",
       "\u001b[0m[branch 3]-->[\u001b[1mleaf node\u001b[0m]                                                               \n",
       " \r",
       "\u001b[0m[branch 4]-->[\u001b[1mleaf node\u001b[0m]                                                               "
      ]
     },
     "execution_count": 8,
     "metadata": {},
     "output_type": "execute_result"
    }
   ],
   "source": [
    "treedemo.nodes"
   ]
  },
  {
   "cell_type": "code",
   "execution_count": 9,
   "metadata": {
    "collapsed": false
   },
   "outputs": [
    {
     "data": {
      "text/plain": [
       "5-element Array{PhyloTrees.Branch,1}:\n",
       " \r",
       "\u001b[0m[node 1]-->[\u001b[1m10.0 branch\u001b[0m]-->[node 2]\n",
       " \r",
       "\u001b[0m[node 1]-->[\u001b[1m5.0 branch\u001b[0m]-->[node 3] \n",
       " \r",
       "\u001b[0m[node 4]-->[\u001b[1m10.0 branch\u001b[0m]-->[node 5]\n",
       " \r",
       "\u001b[0m[node 4]-->[\u001b[1m5.0 branch\u001b[0m]-->[node 6] \n",
       " \r",
       "\u001b[0m[node 2]-->[\u001b[1m17.0 branch\u001b[0m]-->[node 4]"
      ]
     },
     "execution_count": 9,
     "metadata": {},
     "output_type": "execute_result"
    }
   ],
   "source": [
    "treedemo.branches"
   ]
  },
  {
   "cell_type": "markdown",
   "metadata": {},
   "source": [
    "The distance between any two nodes can be calculated"
   ]
  },
  {
   "cell_type": "code",
   "execution_count": 10,
   "metadata": {
    "collapsed": false
   },
   "outputs": [
    {
     "data": {
      "text/plain": [
       "15.0"
      ]
     },
     "execution_count": 10,
     "metadata": {},
     "output_type": "execute_result"
    }
   ],
   "source": [
    "distance(treedemo, 2, 3)"
   ]
  },
  {
   "cell_type": "markdown",
   "metadata": {},
   "source": [
    "There are many substitution models available, the simplest being the relative rate parametrization of the `JC69` model"
   ]
  },
  {
   "cell_type": "code",
   "execution_count": 11,
   "metadata": {
    "collapsed": false
   },
   "outputs": [
    {
     "data": {
      "text/plain": [
       "\r",
       "\u001b[0m\u001b[1mJ\u001b[0mukes and \u001b[1mC\u001b[0mantor 19\u001b[1m69\u001b[0m substitution model\n",
       "\n",
       "4x4 Array{Float64,2}:\n",
       " -3.0   1.0   1.0   1.0\n",
       "  1.0  -3.0   1.0   1.0\n",
       "  1.0   1.0  -3.0   1.0\n",
       "  1.0   1.0   1.0  -3.0"
      ]
     },
     "execution_count": 11,
     "metadata": {},
     "output_type": "execute_result"
    }
   ],
   "source": [
    "moddemo = JC69()"
   ]
  },
  {
   "cell_type": "markdown",
   "metadata": {},
   "source": [
    "Sequence data can be generated (represented as a 4 by N bit array for each node), for a specified tree and substitution model. The initial sequence may be specified or generated. Each site may have the same rate, or variable rates. If the initial sequence is to be generated, by default, the base frequencies of the supplied substitution model are used."
   ]
  },
  {
   "cell_type": "code",
   "execution_count": null,
   "metadata": {
    "collapsed": true
   },
   "outputs": [],
   "source": [
    "seqdemo = simulate(treedemo, moddemo, 1000)"
   ]
  },
  {
   "cell_type": "code",
   "execution_count": null,
   "metadata": {
    "collapsed": true
   },
   "outputs": [],
   "source": []
  }
 ],
 "metadata": {
  "kernelspec": {
   "display_name": "Julia 0.4.5",
   "language": "julia",
   "name": "julia-0.4"
  },
  "language_info": {
   "file_extension": ".jl",
   "mimetype": "application/julia",
   "name": "julia",
   "version": "0.4.5"
  }
 },
 "nbformat": 4,
 "nbformat_minor": 0
}
