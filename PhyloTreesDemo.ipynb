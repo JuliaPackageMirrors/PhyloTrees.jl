{
 "cells": [
  {
   "cell_type": "markdown",
   "metadata": {},
   "source": [
    "# 1.0 Getting started"
   ]
  },
  {
   "cell_type": "markdown",
   "metadata": {},
   "source": [
    "## 1.1 Package installation"
   ]
  },
  {
   "cell_type": "code",
   "execution_count": 1,
   "metadata": {
    "collapsed": false
   },
   "outputs": [],
   "source": [
    "# Pkg.add(\"PhyloTrees\")"
   ]
  },
  {
   "cell_type": "markdown",
   "metadata": {},
   "source": [
    "## 1.2 Loading of package"
   ]
  },
  {
   "cell_type": "code",
   "execution_count": 2,
   "metadata": {
    "collapsed": true
   },
   "outputs": [],
   "source": [
    "using PhyloTrees"
   ]
  },
  {
   "cell_type": "markdown",
   "metadata": {},
   "source": [
    "\n",
    "\n",
    "# 2.0 Tree construction"
   ]
  },
  {
   "cell_type": "markdown",
   "metadata": {},
   "source": [
    "## 2.1 Tree initialization"
   ]
  },
  {
   "cell_type": "code",
   "execution_count": 3,
   "metadata": {
    "collapsed": false
   },
   "outputs": [
    {
     "data": {
      "text/plain": [
       "\r",
       "\u001b[0mPhylogenetic tree with 1 nodes and 0 branches"
      ]
     },
     "execution_count": 3,
     "metadata": {},
     "output_type": "execute_result"
    }
   ],
   "source": [
    "# Initializes a tree with a single node\n",
    "tree_demo1 = Tree()"
   ]
  },
  {
   "cell_type": "code",
   "execution_count": 4,
   "metadata": {
    "collapsed": false
   },
   "outputs": [
    {
     "data": {
      "text/plain": [
       "\r",
       "\u001b[0mPhylogenetic tree with 3 nodes and 0 branches"
      ]
     },
     "execution_count": 4,
     "metadata": {},
     "output_type": "execute_result"
    }
   ],
   "source": [
    "# Initializes a tree with a specified number of nodes\n",
    "tree_demo2 = Tree(3)"
   ]
  },
  {
   "cell_type": "markdown",
   "metadata": {},
   "source": [
    "## 2.2 Nodes"
   ]
  },
  {
   "cell_type": "code",
   "execution_count": 5,
   "metadata": {
    "collapsed": false
   },
   "outputs": [
    {
     "data": {
      "text/plain": [
       "\r",
       "\u001b[0mPhylogenetic tree with 2 nodes and 0 branches"
      ]
     },
     "execution_count": 5,
     "metadata": {},
     "output_type": "execute_result"
    }
   ],
   "source": [
    "# Adds a single node to a tree\n",
    "addnode!(tree_demo1)"
   ]
  },
  {
   "cell_type": "code",
   "execution_count": 6,
   "metadata": {
    "collapsed": false
   },
   "outputs": [
    {
     "ename": "LoadError",
     "evalue": "LoadError: UndefVarError: addnodes not defined\nwhile loading In[6], in expression starting on line 2",
     "output_type": "error",
     "traceback": [
      "LoadError: UndefVarError: addnodes not defined\nwhile loading In[6], in expression starting on line 2",
      ""
     ]
    }
   ],
   "source": [
    "# Adds a specified number of nodes to a tree\n",
    "addnodes(tree_demo2, 5)"
   ]
  },
  {
   "cell_type": "code",
   "execution_count": 7,
   "metadata": {
    "collapsed": false
   },
   "outputs": [
    {
     "data": {
      "text/plain": [
       "2-element Array{PhyloTrees.Node,1}:\n",
       " \n",
       " "
      ]
     },
     "execution_count": 7,
     "metadata": {},
     "output_type": "execute_result"
    }
   ],
   "source": [
    "# Access or views the nodes of a tree\n",
    "tree_demo1.nodes"
   ]
  },
  {
   "cell_type": "markdown",
   "metadata": {},
   "source": [
    "## 2.3 Branches"
   ]
  },
  {
   "cell_type": "code",
   "execution_count": 8,
   "metadata": {
    "collapsed": false
   },
   "outputs": [
    {
     "data": {
      "text/plain": [
       "\r",
       "\u001b[0mPhylogenetic tree with 2 nodes and 1 branches"
      ]
     },
     "execution_count": 8,
     "metadata": {},
     "output_type": "execute_result"
    }
   ],
   "source": [
    "# Adds a branch between a source and target node, of a specified length to a tree\n",
    "addbranch!(tree_demo1, 1, 2, 10.0)"
   ]
  },
  {
   "cell_type": "code",
   "execution_count": 9,
   "metadata": {
    "collapsed": false
   },
   "outputs": [
    {
     "data": {
      "text/plain": [
       "\r",
       "\u001b[0mPhylogenetic tree with 3 nodes and 2 branches"
      ]
     },
     "execution_count": 9,
     "metadata": {},
     "output_type": "execute_result"
    }
   ],
   "source": [
    "# Attaches a branch of a specified length to a source node, which terminates to a new node\n",
    "branch!(tree_demo1, 1, 5.0)"
   ]
  },
  {
   "cell_type": "code",
   "execution_count": 10,
   "metadata": {
    "collapsed": false
   },
   "outputs": [
    {
     "data": {
      "text/plain": [
       "2-element Array{PhyloTrees.Branch,1}:\n",
       " \r",
       "\u001b[0m[node 1]-->[\u001b[1m10.0 branch\u001b[0m]-->[node 2]\n",
       " \r",
       "\u001b[0m[node 1]-->[\u001b[1m5.0 branch\u001b[0m]-->[node 3] "
      ]
     },
     "execution_count": 10,
     "metadata": {},
     "output_type": "execute_result"
    }
   ],
   "source": [
    "# Access or view the `branches` contained within a tree`\n",
    "tree_demo1.branches"
   ]
  },
  {
   "cell_type": "markdown",
   "metadata": {},
   "source": [
    "## 2.4 Subtrees"
   ]
  },
  {
   "cell_type": "code",
   "execution_count": 11,
   "metadata": {
    "collapsed": false
   },
   "outputs": [
    {
     "data": {
      "text/plain": [
       "\r",
       "\u001b[0mPhylogenetic tree with 3 nodes and 2 branches"
      ]
     },
     "execution_count": 11,
     "metadata": {},
     "output_type": "execute_result"
    }
   ],
   "source": [
    "# Extracts the subtree from a specified node in an exisiting tree\n",
    "subtree_demo1 = subtree(tree_demo1, 1)"
   ]
  },
  {
   "cell_type": "code",
   "execution_count": 12,
   "metadata": {
    "collapsed": false
   },
   "outputs": [
    {
     "data": {
      "text/plain": [
       "\r",
       "\u001b[0mPhylogenetic tree with 6 nodes and 5 branches"
      ]
     },
     "execution_count": 12,
     "metadata": {},
     "output_type": "execute_result"
    }
   ],
   "source": [
    "# Adds a subtree to an existing tree\n",
    "addsubtree!(tree_demo1, subtree_demo1)\n",
    "\n",
    "# Adds a branch of a specified length connecting the newly added subtree\n",
    "addbranch!(tree_demo1, 2, 4, 17.0)"
   ]
  },
  {
   "cell_type": "markdown",
   "metadata": {},
   "source": [
    "# 3.0 Utilities"
   ]
  },
  {
   "cell_type": "markdown",
   "metadata": {},
   "source": [
    "## 3.1 Node types"
   ]
  },
  {
   "cell_type": "code",
   "execution_count": 13,
   "metadata": {
    "collapsed": false
   },
   "outputs": [
    {
     "data": {
      "text/plain": [
       "3-element Array{Bool,1}:\n",
       "  true\n",
       " false\n",
       " false"
      ]
     },
     "execution_count": 13,
     "metadata": {},
     "output_type": "execute_result"
    }
   ],
   "source": [
    "# Determines if a node is a root, leaf, or internal node respectively\n",
    "[isroot(tree_demo1, 1), \n",
    " isleaf(tree_demo1, 1),\n",
    " isnode(tree_demo1, 1)]"
   ]
  },
  {
   "cell_type": "code",
   "execution_count": 14,
   "metadata": {
    "collapsed": false
   },
   "outputs": [
    {
     "data": {
      "text/plain": [
       "\"Root\""
      ]
     },
     "execution_count": 14,
     "metadata": {},
     "output_type": "execute_result"
    }
   ],
   "source": [
    "# Returns the type of node (root node, leaf node, or internal node)\n",
    "nodetype(tree_demo1, 1)"
   ]
  },
  {
   "cell_type": "code",
   "execution_count": 15,
   "metadata": {
    "collapsed": false
   },
   "outputs": [
    {
     "name": "stdout",
     "output_type": "stream",
     "text": [
      "Roots: [1]\n",
      "Leaves: [3,5,6]\n",
      "Nodes: [2,4]\n"
     ]
    }
   ],
   "source": [
    "# Determine which nodes are roots, leaves, or internal nodes respectively\n",
    "println(\"Roots: $(findroots(tree_demo1))\")\n",
    "println(\"Leaves: $(findleaves(tree_demo1))\")\n",
    "println(\"Nodes: $(findnodes(tree_demo1))\")\n"
   ]
  },
  {
   "cell_type": "code",
   "execution_count": 16,
   "metadata": {
    "collapsed": false
   },
   "outputs": [
    {
     "data": {
      "text/plain": [
       "15.0"
      ]
     },
     "execution_count": 16,
     "metadata": {},
     "output_type": "execute_result"
    }
   ],
   "source": [
    "# Calculates the branch distance between any two nodes on a tree\n",
    "distance(tree_demo1, 2, 3)"
   ]
  },
  {
   "cell_type": "markdown",
   "metadata": {},
   "source": [
    "## 3.2 Node relationships"
   ]
  },
  {
   "cell_type": "code",
   "execution_count": 17,
   "metadata": {
    "collapsed": false
   },
   "outputs": [
    {
     "data": {
      "text/plain": [
       "true"
      ]
     },
     "execution_count": 17,
     "metadata": {},
     "output_type": "execute_result"
    }
   ],
   "source": [
    "# Determines if two nodes are connected either directly or indirectly\n",
    "areconnected(tree_demo1, 1, 2)"
   ]
  },
  {
   "cell_type": "code",
   "execution_count": 18,
   "metadata": {
    "collapsed": false
   },
   "outputs": [
    {
     "data": {
      "text/plain": [
       "2-element Array{Int64,1}:\n",
       " 1\n",
       " 2"
      ]
     },
     "execution_count": 18,
     "metadata": {},
     "output_type": "execute_result"
    }
   ],
   "source": [
    "# If two nodes are connected, determines the \"node path\" which connects them\n",
    "nodepath(tree_demo1, 1, 2)"
   ]
  },
  {
   "cell_type": "code",
   "execution_count": 19,
   "metadata": {
    "collapsed": false
   },
   "outputs": [
    {
     "data": {
      "text/plain": [
       "1-element Array{Any,1}:\n",
       " 1"
      ]
     },
     "execution_count": 19,
     "metadata": {},
     "output_type": "execute_result"
    }
   ],
   "source": [
    "# If two nodes are connected, determines the \"branch path\" which connects them\n",
    "branchpath(tree_demo1, 1, 2)"
   ]
  },
  {
   "cell_type": "code",
   "execution_count": 20,
   "metadata": {
    "collapsed": false
   },
   "outputs": [
    {
     "data": {
      "text/plain": [
       "1"
      ]
     },
     "execution_count": 20,
     "metadata": {},
     "output_type": "execute_result"
    }
   ],
   "source": [
    "# Lists the parent node associated with a specified node\n",
    "parentnode(tree_demo1, 2)"
   ]
  },
  {
   "cell_type": "code",
   "execution_count": 21,
   "metadata": {
    "collapsed": false
   },
   "outputs": [
    {
     "data": {
      "text/plain": [
       "1-element Array{Int64,1}:\n",
       " 1"
      ]
     },
     "execution_count": 21,
     "metadata": {},
     "output_type": "execute_result"
    }
   ],
   "source": [
    "# Lists all the ancestor nodes associated with a specified node\n",
    "ancestornodes(tree_demo1, 2)"
   ]
  },
  {
   "cell_type": "code",
   "execution_count": 22,
   "metadata": {
    "collapsed": false
   },
   "outputs": [
    {
     "data": {
      "text/plain": [
       "1"
      ]
     },
     "execution_count": 22,
     "metadata": {},
     "output_type": "execute_result"
    }
   ],
   "source": [
    "# Lists the number of ancestors a specified node has\n",
    "ancestorcount(tree_demo1, 2)"
   ]
  },
  {
   "cell_type": "code",
   "execution_count": 23,
   "metadata": {
    "collapsed": false
   },
   "outputs": [
    {
     "data": {
      "text/plain": [
       "2-element Array{Int64,1}:\n",
       " 2\n",
       " 3"
      ]
     },
     "execution_count": 23,
     "metadata": {},
     "output_type": "execute_result"
    }
   ],
   "source": [
    "# Lists all the child nodes associated with a specified node\n",
    "childnodes(tree_demo1, 1)"
   ]
  },
  {
   "cell_type": "code",
   "execution_count": 24,
   "metadata": {
    "collapsed": false
   },
   "outputs": [
    {
     "data": {
      "text/plain": [
       "5-element Array{Int64,1}:\n",
       " 2\n",
       " 3\n",
       " 4\n",
       " 5\n",
       " 6"
      ]
     },
     "execution_count": 24,
     "metadata": {},
     "output_type": "execute_result"
    }
   ],
   "source": [
    "# Lists all the descendant nodes associated with a specified node\n",
    "descendantnodes(tree_demo1, 1)"
   ]
  },
  {
   "cell_type": "code",
   "execution_count": 25,
   "metadata": {
    "collapsed": false
   },
   "outputs": [
    {
     "data": {
      "text/plain": [
       "5"
      ]
     },
     "execution_count": 25,
     "metadata": {},
     "output_type": "execute_result"
    }
   ],
   "source": [
    "# Lists the number of descendants a specified node has\n",
    "descendantcount(tree_demo1, 1)"
   ]
  },
  {
   "cell_type": "markdown",
   "metadata": {},
   "source": [
    "# 4.0 Plotting"
   ]
  },
  {
   "cell_type": "code",
   "execution_count": 26,
   "metadata": {
    "collapsed": false
   },
   "outputs": [
    {
     "name": "stdout",
     "output_type": "stream",
     "text": [
      "[Plots.jl] Initializing backend: pyplot\n"
     ]
    },
    {
     "name": "stderr",
     "output_type": "stream",
     "text": [
      "2016-05-10 11:12:34.230 julia[15943:6168240] setCanCycle: is deprecated.  Please use setCollectionBehavior instead\n"
     ]
    },
    {
     "data": {
      "text/html": [
       "<?xml version=\"1.0\" encoding=\"utf-8\" standalone=\"no\"?>\n",
       "<!DOCTYPE svg PUBLIC \"-//W3C//DTD SVG 1.1//EN\"\n",
       "  \"http://www.w3.org/Graphics/SVG/1.1/DTD/svg11.dtd\">\n",
       "<!-- Created with matplotlib (http://matplotlib.org/) -->\n",
       "<svg height=\"288pt\" version=\"1.1\" viewBox=\"0 0 432 288\" width=\"432pt\" xmlns=\"http://www.w3.org/2000/svg\" xmlns:xlink=\"http://www.w3.org/1999/xlink\">\n",
       " <defs>\n",
       "  <style type=\"text/css\">\n",
       "*{stroke-linecap:butt;stroke-linejoin:round;stroke-miterlimit:100000;}\n",
       "  </style>\n",
       " </defs>\n",
       " <g id=\"figure_1\">\n",
       "  <g id=\"patch_1\">\n",
       "   <path d=\"M 0 288 \n",
       "L 432 288 \n",
       "L 432 0 \n",
       "L 0 0 \n",
       "z\n",
       "\" style=\"fill:#ffffff;\"/>\n",
       "  </g>\n",
       "  <g id=\"axes_1\">\n",
       "   <g id=\"patch_2\">\n",
       "    <path d=\"M 12.96 263.2975 \n",
       "L 419.04 263.2975 \n",
       "L 419.04 12.96 \n",
       "L 12.96 12.96 \n",
       "z\n",
       "\" style=\"fill:#ffffff;\"/>\n",
       "   </g>\n",
       "   <g id=\"matplotlib.axis_1\">\n",
       "    <g id=\"xtick_1\">\n",
       "     <g id=\"line2d_1\">\n",
       "      <path clip-path=\"url(#p4346e77d51)\" d=\"M 20.343273 263.2975 \n",
       "L 20.343273 12.96 \n",
       "\" style=\"fill:none;stroke:#000000;stroke-dasharray:1.000000,3.000000;stroke-dashoffset:0.0;stroke-width:0.5;\"/>\n",
       "     </g>\n",
       "     <g id=\"line2d_2\">\n",
       "      <defs>\n",
       "       <path d=\"M 0 0 \n",
       "L 0 -4 \n",
       "\" id=\"m7594074c05\" style=\"stroke:#000000;stroke-width:0.5;\"/>\n",
       "      </defs>\n",
       "      <g>\n",
       "       <use style=\"stroke:#000000;stroke-width:0.5;\" x=\"20.3432727273\" xlink:href=\"#m7594074c05\" y=\"263.2975\"/>\n",
       "      </g>\n",
       "     </g>\n",
       "     <g id=\"line2d_3\">\n",
       "      <defs>\n",
       "       <path d=\"M 0 0 \n",
       "L 0 4 \n",
       "\" id=\"m63162923e3\" style=\"stroke:#000000;stroke-width:0.5;\"/>\n",
       "      </defs>\n",
       "      <g>\n",
       "       <use style=\"stroke:#000000;stroke-width:0.5;\" x=\"20.3432727273\" xlink:href=\"#m63162923e3\" y=\"12.96\"/>\n",
       "      </g>\n",
       "     </g>\n",
       "     <g id=\"text_1\">\n",
       "      <!-- 0 -->\n",
       "      <defs>\n",
       "       <path d=\"M 31.78125 66.40625 \n",
       "Q 24.171875 66.40625 20.328125 58.90625 \n",
       "Q 16.5 51.421875 16.5 36.375 \n",
       "Q 16.5 21.390625 20.328125 13.890625 \n",
       "Q 24.171875 6.390625 31.78125 6.390625 \n",
       "Q 39.453125 6.390625 43.28125 13.890625 \n",
       "Q 47.125 21.390625 47.125 36.375 \n",
       "Q 47.125 51.421875 43.28125 58.90625 \n",
       "Q 39.453125 66.40625 31.78125 66.40625 \n",
       "M 31.78125 74.21875 \n",
       "Q 44.046875 74.21875 50.515625 64.515625 \n",
       "Q 56.984375 54.828125 56.984375 36.375 \n",
       "Q 56.984375 17.96875 50.515625 8.265625 \n",
       "Q 44.046875 -1.421875 31.78125 -1.421875 \n",
       "Q 19.53125 -1.421875 13.0625 8.265625 \n",
       "Q 6.59375 17.96875 6.59375 36.375 \n",
       "Q 6.59375 54.828125 13.0625 64.515625 \n",
       "Q 19.53125 74.21875 31.78125 74.21875 \n",
       "\" id=\"BitstreamVeraSans-Roman-30\"/>\n",
       "      </defs>\n",
       "      <g transform=\"translate(17.7982727273 273.37625)scale(0.08 -0.08)\">\n",
       "       <use xlink:href=\"#BitstreamVeraSans-Roman-30\"/>\n",
       "      </g>\n",
       "     </g>\n",
       "    </g>\n",
       "    <g id=\"xtick_2\">\n",
       "     <g id=\"line2d_4\">\n",
       "      <path clip-path=\"url(#p4346e77d51)\" d=\"M 94.176 263.2975 \n",
       "L 94.176 12.96 \n",
       "\" style=\"fill:none;stroke:#000000;stroke-dasharray:1.000000,3.000000;stroke-dashoffset:0.0;stroke-width:0.5;\"/>\n",
       "     </g>\n",
       "     <g id=\"line2d_5\">\n",
       "      <g>\n",
       "       <use style=\"stroke:#000000;stroke-width:0.5;\" x=\"94.176\" xlink:href=\"#m7594074c05\" y=\"263.2975\"/>\n",
       "      </g>\n",
       "     </g>\n",
       "     <g id=\"line2d_6\">\n",
       "      <g>\n",
       "       <use style=\"stroke:#000000;stroke-width:0.5;\" x=\"94.176\" xlink:href=\"#m63162923e3\" y=\"12.96\"/>\n",
       "      </g>\n",
       "     </g>\n",
       "     <g id=\"text_2\">\n",
       "      <!-- 10 -->\n",
       "      <defs>\n",
       "       <path d=\"M 12.40625 8.296875 \n",
       "L 28.515625 8.296875 \n",
       "L 28.515625 63.921875 \n",
       "L 10.984375 60.40625 \n",
       "L 10.984375 69.390625 \n",
       "L 28.421875 72.90625 \n",
       "L 38.28125 72.90625 \n",
       "L 38.28125 8.296875 \n",
       "L 54.390625 8.296875 \n",
       "L 54.390625 0 \n",
       "L 12.40625 0 \n",
       "z\n",
       "\" id=\"BitstreamVeraSans-Roman-31\"/>\n",
       "      </defs>\n",
       "      <g transform=\"translate(89.086 273.37625)scale(0.08 -0.08)\">\n",
       "       <use xlink:href=\"#BitstreamVeraSans-Roman-31\"/>\n",
       "       <use x=\"63.623046875\" xlink:href=\"#BitstreamVeraSans-Roman-30\"/>\n",
       "      </g>\n",
       "     </g>\n",
       "    </g>\n",
       "    <g id=\"xtick_3\">\n",
       "     <g id=\"line2d_7\">\n",
       "      <path clip-path=\"url(#p4346e77d51)\" d=\"M 168.008727 263.2975 \n",
       "L 168.008727 12.96 \n",
       "\" style=\"fill:none;stroke:#000000;stroke-dasharray:1.000000,3.000000;stroke-dashoffset:0.0;stroke-width:0.5;\"/>\n",
       "     </g>\n",
       "     <g id=\"line2d_8\">\n",
       "      <g>\n",
       "       <use style=\"stroke:#000000;stroke-width:0.5;\" x=\"168.008727273\" xlink:href=\"#m7594074c05\" y=\"263.2975\"/>\n",
       "      </g>\n",
       "     </g>\n",
       "     <g id=\"line2d_9\">\n",
       "      <g>\n",
       "       <use style=\"stroke:#000000;stroke-width:0.5;\" x=\"168.008727273\" xlink:href=\"#m63162923e3\" y=\"12.96\"/>\n",
       "      </g>\n",
       "     </g>\n",
       "     <g id=\"text_3\">\n",
       "      <!-- 20 -->\n",
       "      <defs>\n",
       "       <path d=\"M 19.1875 8.296875 \n",
       "L 53.609375 8.296875 \n",
       "L 53.609375 0 \n",
       "L 7.328125 0 \n",
       "L 7.328125 8.296875 \n",
       "Q 12.9375 14.109375 22.625 23.890625 \n",
       "Q 32.328125 33.6875 34.8125 36.53125 \n",
       "Q 39.546875 41.84375 41.421875 45.53125 \n",
       "Q 43.3125 49.21875 43.3125 52.78125 \n",
       "Q 43.3125 58.59375 39.234375 62.25 \n",
       "Q 35.15625 65.921875 28.609375 65.921875 \n",
       "Q 23.96875 65.921875 18.8125 64.3125 \n",
       "Q 13.671875 62.703125 7.8125 59.421875 \n",
       "L 7.8125 69.390625 \n",
       "Q 13.765625 71.78125 18.9375 73 \n",
       "Q 24.125 74.21875 28.421875 74.21875 \n",
       "Q 39.75 74.21875 46.484375 68.546875 \n",
       "Q 53.21875 62.890625 53.21875 53.421875 \n",
       "Q 53.21875 48.921875 51.53125 44.890625 \n",
       "Q 49.859375 40.875 45.40625 35.40625 \n",
       "Q 44.1875 33.984375 37.640625 27.21875 \n",
       "Q 31.109375 20.453125 19.1875 8.296875 \n",
       "\" id=\"BitstreamVeraSans-Roman-32\"/>\n",
       "      </defs>\n",
       "      <g transform=\"translate(162.918727273 273.37625)scale(0.08 -0.08)\">\n",
       "       <use xlink:href=\"#BitstreamVeraSans-Roman-32\"/>\n",
       "       <use x=\"63.623046875\" xlink:href=\"#BitstreamVeraSans-Roman-30\"/>\n",
       "      </g>\n",
       "     </g>\n",
       "    </g>\n",
       "    <g id=\"xtick_4\">\n",
       "     <g id=\"line2d_10\">\n",
       "      <path clip-path=\"url(#p4346e77d51)\" d=\"M 241.841455 263.2975 \n",
       "L 241.841455 12.96 \n",
       "\" style=\"fill:none;stroke:#000000;stroke-dasharray:1.000000,3.000000;stroke-dashoffset:0.0;stroke-width:0.5;\"/>\n",
       "     </g>\n",
       "     <g id=\"line2d_11\">\n",
       "      <g>\n",
       "       <use style=\"stroke:#000000;stroke-width:0.5;\" x=\"241.841454545\" xlink:href=\"#m7594074c05\" y=\"263.2975\"/>\n",
       "      </g>\n",
       "     </g>\n",
       "     <g id=\"line2d_12\">\n",
       "      <g>\n",
       "       <use style=\"stroke:#000000;stroke-width:0.5;\" x=\"241.841454545\" xlink:href=\"#m63162923e3\" y=\"12.96\"/>\n",
       "      </g>\n",
       "     </g>\n",
       "     <g id=\"text_4\">\n",
       "      <!-- 30 -->\n",
       "      <defs>\n",
       "       <path d=\"M 40.578125 39.3125 \n",
       "Q 47.65625 37.796875 51.625 33 \n",
       "Q 55.609375 28.21875 55.609375 21.1875 \n",
       "Q 55.609375 10.40625 48.1875 4.484375 \n",
       "Q 40.765625 -1.421875 27.09375 -1.421875 \n",
       "Q 22.515625 -1.421875 17.65625 -0.515625 \n",
       "Q 12.796875 0.390625 7.625 2.203125 \n",
       "L 7.625 11.71875 \n",
       "Q 11.71875 9.328125 16.59375 8.109375 \n",
       "Q 21.484375 6.890625 26.8125 6.890625 \n",
       "Q 36.078125 6.890625 40.9375 10.546875 \n",
       "Q 45.796875 14.203125 45.796875 21.1875 \n",
       "Q 45.796875 27.640625 41.28125 31.265625 \n",
       "Q 36.765625 34.90625 28.71875 34.90625 \n",
       "L 20.21875 34.90625 \n",
       "L 20.21875 43.015625 \n",
       "L 29.109375 43.015625 \n",
       "Q 36.375 43.015625 40.234375 45.921875 \n",
       "Q 44.09375 48.828125 44.09375 54.296875 \n",
       "Q 44.09375 59.90625 40.109375 62.90625 \n",
       "Q 36.140625 65.921875 28.71875 65.921875 \n",
       "Q 24.65625 65.921875 20.015625 65.03125 \n",
       "Q 15.375 64.15625 9.8125 62.3125 \n",
       "L 9.8125 71.09375 \n",
       "Q 15.4375 72.65625 20.34375 73.4375 \n",
       "Q 25.25 74.21875 29.59375 74.21875 \n",
       "Q 40.828125 74.21875 47.359375 69.109375 \n",
       "Q 53.90625 64.015625 53.90625 55.328125 \n",
       "Q 53.90625 49.265625 50.4375 45.09375 \n",
       "Q 46.96875 40.921875 40.578125 39.3125 \n",
       "\" id=\"BitstreamVeraSans-Roman-33\"/>\n",
       "      </defs>\n",
       "      <g transform=\"translate(236.751454545 273.37625)scale(0.08 -0.08)\">\n",
       "       <use xlink:href=\"#BitstreamVeraSans-Roman-33\"/>\n",
       "       <use x=\"63.623046875\" xlink:href=\"#BitstreamVeraSans-Roman-30\"/>\n",
       "      </g>\n",
       "     </g>\n",
       "    </g>\n",
       "    <g id=\"xtick_5\">\n",
       "     <g id=\"line2d_13\">\n",
       "      <path clip-path=\"url(#p4346e77d51)\" d=\"M 315.674182 263.2975 \n",
       "L 315.674182 12.96 \n",
       "\" style=\"fill:none;stroke:#000000;stroke-dasharray:1.000000,3.000000;stroke-dashoffset:0.0;stroke-width:0.5;\"/>\n",
       "     </g>\n",
       "     <g id=\"line2d_14\">\n",
       "      <g>\n",
       "       <use style=\"stroke:#000000;stroke-width:0.5;\" x=\"315.674181818\" xlink:href=\"#m7594074c05\" y=\"263.2975\"/>\n",
       "      </g>\n",
       "     </g>\n",
       "     <g id=\"line2d_15\">\n",
       "      <g>\n",
       "       <use style=\"stroke:#000000;stroke-width:0.5;\" x=\"315.674181818\" xlink:href=\"#m63162923e3\" y=\"12.96\"/>\n",
       "      </g>\n",
       "     </g>\n",
       "     <g id=\"text_5\">\n",
       "      <!-- 40 -->\n",
       "      <defs>\n",
       "       <path d=\"M 37.796875 64.3125 \n",
       "L 12.890625 25.390625 \n",
       "L 37.796875 25.390625 \n",
       "z\n",
       "M 35.203125 72.90625 \n",
       "L 47.609375 72.90625 \n",
       "L 47.609375 25.390625 \n",
       "L 58.015625 25.390625 \n",
       "L 58.015625 17.1875 \n",
       "L 47.609375 17.1875 \n",
       "L 47.609375 0 \n",
       "L 37.796875 0 \n",
       "L 37.796875 17.1875 \n",
       "L 4.890625 17.1875 \n",
       "L 4.890625 26.703125 \n",
       "z\n",
       "\" id=\"BitstreamVeraSans-Roman-34\"/>\n",
       "      </defs>\n",
       "      <g transform=\"translate(310.584181818 273.37625)scale(0.08 -0.08)\">\n",
       "       <use xlink:href=\"#BitstreamVeraSans-Roman-34\"/>\n",
       "       <use x=\"63.623046875\" xlink:href=\"#BitstreamVeraSans-Roman-30\"/>\n",
       "      </g>\n",
       "     </g>\n",
       "    </g>\n",
       "    <g id=\"xtick_6\">\n",
       "     <g id=\"line2d_16\">\n",
       "      <path clip-path=\"url(#p4346e77d51)\" d=\"M 389.506909 263.2975 \n",
       "L 389.506909 12.96 \n",
       "\" style=\"fill:none;stroke:#000000;stroke-dasharray:1.000000,3.000000;stroke-dashoffset:0.0;stroke-width:0.5;\"/>\n",
       "     </g>\n",
       "     <g id=\"line2d_17\">\n",
       "      <g>\n",
       "       <use style=\"stroke:#000000;stroke-width:0.5;\" x=\"389.506909091\" xlink:href=\"#m7594074c05\" y=\"263.2975\"/>\n",
       "      </g>\n",
       "     </g>\n",
       "     <g id=\"line2d_18\">\n",
       "      <g>\n",
       "       <use style=\"stroke:#000000;stroke-width:0.5;\" x=\"389.506909091\" xlink:href=\"#m63162923e3\" y=\"12.96\"/>\n",
       "      </g>\n",
       "     </g>\n",
       "     <g id=\"text_6\">\n",
       "      <!-- 50 -->\n",
       "      <defs>\n",
       "       <path d=\"M 10.796875 72.90625 \n",
       "L 49.515625 72.90625 \n",
       "L 49.515625 64.59375 \n",
       "L 19.828125 64.59375 \n",
       "L 19.828125 46.734375 \n",
       "Q 21.96875 47.46875 24.109375 47.828125 \n",
       "Q 26.265625 48.1875 28.421875 48.1875 \n",
       "Q 40.625 48.1875 47.75 41.5 \n",
       "Q 54.890625 34.8125 54.890625 23.390625 \n",
       "Q 54.890625 11.625 47.5625 5.09375 \n",
       "Q 40.234375 -1.421875 26.90625 -1.421875 \n",
       "Q 22.3125 -1.421875 17.546875 -0.640625 \n",
       "Q 12.796875 0.140625 7.71875 1.703125 \n",
       "L 7.71875 11.625 \n",
       "Q 12.109375 9.234375 16.796875 8.0625 \n",
       "Q 21.484375 6.890625 26.703125 6.890625 \n",
       "Q 35.15625 6.890625 40.078125 11.328125 \n",
       "Q 45.015625 15.765625 45.015625 23.390625 \n",
       "Q 45.015625 31 40.078125 35.4375 \n",
       "Q 35.15625 39.890625 26.703125 39.890625 \n",
       "Q 22.75 39.890625 18.8125 39.015625 \n",
       "Q 14.890625 38.140625 10.796875 36.28125 \n",
       "z\n",
       "\" id=\"BitstreamVeraSans-Roman-35\"/>\n",
       "      </defs>\n",
       "      <g transform=\"translate(384.416909091 273.37625)scale(0.08 -0.08)\">\n",
       "       <use xlink:href=\"#BitstreamVeraSans-Roman-35\"/>\n",
       "       <use x=\"63.623046875\" xlink:href=\"#BitstreamVeraSans-Roman-30\"/>\n",
       "      </g>\n",
       "     </g>\n",
       "    </g>\n",
       "   </g>\n",
       "   <g id=\"matplotlib.axis_2\"/>\n",
       "   <g id=\"line2d_19\">\n",
       "    <path clip-path=\"url(#p4346e77d51)\" d=\"M 94.176 216.938704 \n",
       "L 20.343273 216.938704 \n",
       "L 20.343273 124.221111 \n",
       "\" style=\"fill:none;stroke:#000000;stroke-linecap:square;\"/>\n",
       "   </g>\n",
       "   <g id=\"line2d_20\">\n",
       "    <path clip-path=\"url(#p4346e77d51)\" d=\"M 57.259636 87.134074 \n",
       "L 20.343273 87.134074 \n",
       "L 20.343273 124.221111 \n",
       "\" style=\"fill:none;stroke:#000000;stroke-linecap:square;\"/>\n",
       "   </g>\n",
       "   <g id=\"patch_3\">\n",
       "    <path d=\"M 419.04 263.2975 \n",
       "L 419.04 12.96 \n",
       "\" style=\"fill:none;stroke:#000000;stroke-linecap:square;stroke-linejoin:miter;\"/>\n",
       "   </g>\n",
       "   <g id=\"patch_4\">\n",
       "    <path d=\"M 12.96 263.2975 \n",
       "L 419.04 263.2975 \n",
       "\" style=\"fill:none;stroke:#000000;stroke-linecap:square;stroke-linejoin:miter;\"/>\n",
       "   </g>\n",
       "   <g id=\"patch_5\">\n",
       "    <path d=\"M 12.96 263.2975 \n",
       "L 12.96 12.96 \n",
       "\" style=\"fill:none;stroke:#000000;stroke-linecap:square;stroke-linejoin:miter;\"/>\n",
       "   </g>\n",
       "   <g id=\"patch_6\">\n",
       "    <path d=\"M 12.96 12.96 \n",
       "L 419.04 12.96 \n",
       "\" style=\"fill:none;stroke:#000000;stroke-linecap:square;stroke-linejoin:miter;\"/>\n",
       "   </g>\n",
       "   <g id=\"line2d_21\">\n",
       "    <path clip-path=\"url(#p4346e77d51)\" d=\"M 219.691636 235.482222 \n",
       "L 94.176 235.482222 \n",
       "L 94.176 216.938704 \n",
       "\" style=\"fill:none;stroke:#000000;stroke-linecap:square;\"/>\n",
       "   </g>\n",
       "   <g id=\"line2d_22\">\n",
       "    <path clip-path=\"url(#p4346e77d51)\" d=\"M 293.524364 254.025741 \n",
       "L 219.691636 254.025741 \n",
       "L 219.691636 235.482222 \n",
       "\" style=\"fill:none;stroke:#000000;stroke-linecap:square;\"/>\n",
       "   </g>\n",
       "   <g id=\"line2d_23\">\n",
       "    <path clip-path=\"url(#p4346e77d51)\" d=\"M 256.608 235.482222 \n",
       "L 219.691636 235.482222 \n",
       "L 219.691636 235.482222 \n",
       "\" style=\"fill:none;stroke:#000000;stroke-linecap:square;\"/>\n",
       "   </g>\n",
       "   <g id=\"line2d_24\">\n",
       "    <path clip-path=\"url(#p4346e77d51)\" d=\"M 153.242182 198.395185 \n",
       "L 94.176 198.395185 \n",
       "L 94.176 216.938704 \n",
       "\" style=\"fill:none;stroke:#000000;stroke-linecap:square;\"/>\n",
       "   </g>\n",
       "   <g id=\"line2d_25\">\n",
       "    <path clip-path=\"url(#p4346e77d51)\" d=\"M 138.475636 105.677593 \n",
       "L 57.259636 105.677593 \n",
       "L 57.259636 87.134074 \n",
       "\" style=\"fill:none;stroke:#000000;stroke-linecap:square;\"/>\n",
       "   </g>\n",
       "   <g id=\"line2d_26\">\n",
       "    <path clip-path=\"url(#p4346e77d51)\" d=\"M 212.308364 124.221111 \n",
       "L 138.475636 124.221111 \n",
       "L 138.475636 105.677593 \n",
       "\" style=\"fill:none;stroke:#000000;stroke-linecap:square;\"/>\n",
       "   </g>\n",
       "   <g id=\"line2d_27\">\n",
       "    <path clip-path=\"url(#p4346e77d51)\" d=\"M 175.392 68.590556 \n",
       "L 138.475636 68.590556 \n",
       "L 138.475636 105.677593 \n",
       "\" style=\"fill:none;stroke:#000000;stroke-linecap:square;\"/>\n",
       "   </g>\n",
       "   <g id=\"line2d_28\">\n",
       "    <path clip-path=\"url(#p4346e77d51)\" d=\"M 337.824 142.76463 \n",
       "L 212.308364 142.76463 \n",
       "L 212.308364 124.221111 \n",
       "\" style=\"fill:none;stroke:#000000;stroke-linecap:square;\"/>\n",
       "   </g>\n",
       "   <g id=\"line2d_29\">\n",
       "    <path clip-path=\"url(#p4346e77d51)\" d=\"M 271.374545 105.677593 \n",
       "L 212.308364 105.677593 \n",
       "L 212.308364 124.221111 \n",
       "\" style=\"fill:none;stroke:#000000;stroke-linecap:square;\"/>\n",
       "   </g>\n",
       "   <g id=\"line2d_30\">\n",
       "    <path clip-path=\"url(#p4346e77d51)\" d=\"M 411.656727 161.308148 \n",
       "L 337.824 161.308148 \n",
       "L 337.824 142.76463 \n",
       "\" style=\"fill:none;stroke:#000000;stroke-linecap:square;\"/>\n",
       "   </g>\n",
       "   <g id=\"line2d_31\">\n",
       "    <path clip-path=\"url(#p4346e77d51)\" d=\"M 374.740364 142.76463 \n",
       "L 337.824 142.76463 \n",
       "L 337.824 142.76463 \n",
       "\" style=\"fill:none;stroke:#000000;stroke-linecap:square;\"/>\n",
       "   </g>\n",
       "   <g id=\"line2d_32\">\n",
       "    <path clip-path=\"url(#p4346e77d51)\" d=\"M 212.308364 31.503519 \n",
       "L 57.259636 31.503519 \n",
       "L 57.259636 87.134074 \n",
       "\" style=\"fill:none;stroke:#000000;stroke-linecap:square;\"/>\n",
       "   </g>\n",
       "  </g>\n",
       " </g>\n",
       " <defs>\n",
       "  <clipPath id=\"p4346e77d51\">\n",
       "   <rect height=\"250.3375\" width=\"406.08\" x=\"12.96\" y=\"12.96\"/>\n",
       "  </clipPath>\n",
       " </defs>\n",
       "</svg>\n"
      ]
     },
     "execution_count": 26,
     "metadata": {},
     "output_type": "execute_result"
    }
   ],
   "source": [
    "# We'll increase tree complexity a bit first...\n",
    "branch!(tree_demo1, 2, 8.0)\n",
    "addsubtree!(tree_demo1, subtree(tree_demo1, 1))\n",
    "addbranch!(tree_demo1, 3, 8, 11.0)\n",
    "branch!(tree_demo1, 3, 21.0)\n",
    "\n",
    "# Plots the tree\n",
    "plot(tree_demo1)"
   ]
  },
  {
   "cell_type": "markdown",
   "metadata": {},
   "source": [
    "# 5.0 Simulation"
   ]
  },
  {
   "cell_type": "code",
   "execution_count": 27,
   "metadata": {
    "collapsed": false
   },
   "outputs": [
    {
     "data": {
      "text/plain": [
       "15-element Array{PhyloTrees.Node,1}:\n",
       " \r",
       "\u001b[0m[\u001b[1mroot node\u001b[0m]-->[branch 1]\n",
       "\u001b[0m           -->[branch 2]                                    \n",
       " \r",
       "\u001b[0m[branch 1]-->[\u001b[1minternal node\u001b[0m]-->[branch 5]\n",
       "\u001b[0m                            -->[branch 6]  \n",
       " \r",
       "\u001b[0m[branch 2]-->[\u001b[1minternal node\u001b[0m]-->[branch 13]\n",
       "\u001b[0m                            -->[branch 14]\n",
       " \r",
       "\u001b[0m[branch 5]-->[\u001b[1minternal node\u001b[0m]-->[branch 3]\n",
       "\u001b[0m                            -->[branch 4]  \n",
       " \r",
       "\u001b[0m[branch 3]-->[\u001b[1mleaf node\u001b[0m]                                                                 \n",
       " \r",
       "\u001b[0m[branch 4]-->[\u001b[1mleaf node\u001b[0m]                                                                 \n",
       " \r",
       "\u001b[0m[branch 6]-->[\u001b[1mleaf node\u001b[0m]                                                                 \n",
       " \r",
       "\u001b[0m[branch 13]-->[\u001b[1minternal node\u001b[0m]-->[branch 7]\n",
       "\u001b[0m                             -->[branch 8]\n",
       " \r",
       "\u001b[0m[branch 7]-->[\u001b[1minternal node\u001b[0m]-->[branch 9]\n",
       "\u001b[0m                            -->[branch 10] \n",
       " \r",
       "\u001b[0m[branch 8]-->[\u001b[1mleaf node\u001b[0m]                                                                 \n",
       " \r",
       "\u001b[0m[branch 9]-->[\u001b[1minternal node\u001b[0m]-->[branch 11]\n",
       "\u001b[0m                            -->[branch 12]\n",
       " \r",
       "\u001b[0m[branch 10]-->[\u001b[1mleaf node\u001b[0m]                                                                \n",
       " \r",
       "\u001b[0m[branch 11]-->[\u001b[1mleaf node\u001b[0m]                                                                \n",
       " \r",
       "\u001b[0m[branch 12]-->[\u001b[1mleaf node\u001b[0m]                                                                \n",
       " \r",
       "\u001b[0m[branch 14]-->[\u001b[1mleaf node\u001b[0m]                                                                "
      ]
     },
     "execution_count": 27,
     "metadata": {},
     "output_type": "execute_result"
    }
   ],
   "source": [
    "tree_demo1.nodes"
   ]
  },
  {
   "cell_type": "markdown",
   "metadata": {},
   "source": [
    "## 5.1 Substitution models"
   ]
  },
  {
   "cell_type": "code",
   "execution_count": 28,
   "metadata": {
    "collapsed": false
   },
   "outputs": [
    {
     "data": {
      "text/plain": [
       "\r",
       "\u001b[0m\u001b[1mJ\u001b[0mukes and \u001b[1mC\u001b[0mantor 19\u001b[1m69\u001b[0m substitution model\n",
       "\n",
       "4x4 Array{Float64,2}:\n",
       " -3.0   1.0   1.0   1.0\n",
       "  1.0  -3.0   1.0   1.0\n",
       "  1.0   1.0  -3.0   1.0\n",
       "  1.0   1.0   1.0  -3.0"
      ]
     },
     "execution_count": 28,
     "metadata": {},
     "output_type": "execute_result"
    }
   ],
   "source": [
    "# Generates the relative rate formulation of the JC69 substitution model \n",
    "JC69_demo = JC69()\n",
    "\n",
    "# See PhyloTrees/src/mutation/ for several additional substitution models"
   ]
  },
  {
   "cell_type": "markdown",
   "metadata": {},
   "source": [
    "## 5.2 DNA sequence generation"
   ]
  },
  {
   "cell_type": "code",
   "execution_count": 29,
   "metadata": {
    "collapsed": false
   },
   "outputs": [
    {
     "data": {
      "text/plain": [
       "4x1000x15 Array{Bool,3}:\n",
       "[:, :, 1] =\n",
       " false  false   true  false   true  …  false   true  false  false  false\n",
       " false  false  false   true  false     false  false  false  false  false\n",
       " false  false  false  false  false     false  false  false   true   true\n",
       "  true   true  false  false  false      true  false   true  false  false\n",
       "\n",
       "[:, :, 2] =\n",
       " false  false  false  false  false  …  false   true  false   true  false\n",
       " false  false  false  false   true      true  false  false  false  false\n",
       "  true  false   true  false  false     false  false  false  false   true\n",
       " false   true  false   true  false     false  false   true  false  false\n",
       "\n",
       "[:, :, 3] =\n",
       "  true   true   true  false  false  …  false  false  false  false  false\n",
       " false  false  false  false  false      true   true  false  false  false\n",
       " false  false  false   true   true     false  false  false   true  false\n",
       " false  false  false  false  false     false  false   true  false   true\n",
       "\n",
       "...\n",
       "\n",
       "[:, :, 13] =\n",
       " false  false  false   true  false  …   true  false  false  false  false\n",
       " false  false  false  false  false     false  false   true  false  false\n",
       "  true   true  false  false  false     false  false  false   true  false\n",
       " false  false   true  false   true     false   true  false  false   true\n",
       "\n",
       "[:, :, 14] =\n",
       " false  false   true   true  false  …  false   true   true  false  false\n",
       "  true  false  false  false   true      true  false  false   true  false\n",
       " false   true  false  false  false     false  false  false  false   true\n",
       " false  false  false  false  false     false  false  false  false  false\n",
       "\n",
       "[:, :, 15] =\n",
       " false   true  false  false   true  …   true  false  false   true  false\n",
       " false  false  false   true  false     false  false  false  false  false\n",
       "  true  false   true  false  false     false   true  false  false   true\n",
       " false  false  false  false  false     false  false   true  false  false"
      ]
     },
     "execution_count": 29,
     "metadata": {},
     "output_type": "execute_result"
    }
   ],
   "source": [
    "# Generates DNA sequence data for nodes of a tree.\n",
    "seqdemo = simulate(tree_demo1, JC69_demo, 1000)\n",
    "\n",
    "# DNA sequences are represented as 4 by N bit arrays for each node.\n",
    "\n",
    "# The initial (root) sequence may be specified or generated.\n",
    "\n",
    "# Site rates may be constant or variable. \n",
    "\n",
    "# If the initial sequence is to be generated, the base frequencies \n",
    "# of the supplied substitution model are utilized."
   ]
  }
 ],
 "metadata": {
  "kernelspec": {
   "display_name": "Julia 0.4.5",
   "language": "julia",
   "name": "julia-0.4"
  },
  "language_info": {
   "file_extension": ".jl",
   "mimetype": "application/julia",
   "name": "julia",
   "version": "0.4.5"
  }
 },
 "nbformat": 4,
 "nbformat_minor": 0
}
