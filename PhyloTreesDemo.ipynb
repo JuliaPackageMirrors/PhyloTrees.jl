{
 "cells": [
  {
   "cell_type": "markdown",
   "metadata": {},
   "source": [
    "# 1.0 Getting started"
   ]
  },
  {
   "cell_type": "markdown",
   "metadata": {},
   "source": [
    "## 1.1 Package installation"
   ]
  },
  {
   "cell_type": "code",
   "execution_count": 1,
   "metadata": {
    "collapsed": false
   },
   "outputs": [],
   "source": [
    "# Pkg.add(\"PhyloTrees\")"
   ]
  },
  {
   "cell_type": "markdown",
   "metadata": {},
   "source": [
    "## 1.2 Loading of package"
   ]
  },
  {
   "cell_type": "code",
   "execution_count": 2,
   "metadata": {
    "collapsed": false
   },
   "outputs": [],
   "source": [
    "using PhyloTrees"
   ]
  },
  {
   "cell_type": "markdown",
   "metadata": {},
   "source": [
    "\n",
    "\n",
    "# 2.0 Tree construction"
   ]
  },
  {
   "cell_type": "markdown",
   "metadata": {},
   "source": [
    "## 2.1 Tree initialization"
   ]
  },
  {
   "cell_type": "code",
   "execution_count": 3,
   "metadata": {
    "collapsed": false
   },
   "outputs": [
    {
     "data": {
      "text/plain": [
       "\r",
       "\u001b[0mPhylogenetic tree with 1 nodes and 0 branches"
      ]
     },
     "execution_count": 3,
     "metadata": {},
     "output_type": "execute_result"
    }
   ],
   "source": [
    "# Initializes a tree with a single node\n",
    "tree_demo1 = Tree()"
   ]
  },
  {
   "cell_type": "code",
   "execution_count": 4,
   "metadata": {
    "collapsed": false
   },
   "outputs": [
    {
     "data": {
      "text/plain": [
       "\r",
       "\u001b[0mPhylogenetic tree with 3 nodes and 0 branches"
      ]
     },
     "execution_count": 4,
     "metadata": {},
     "output_type": "execute_result"
    }
   ],
   "source": [
    "# Initializes a tree with a specified number of nodes\n",
    "tree_demo2 = Tree(3)"
   ]
  },
  {
   "cell_type": "markdown",
   "metadata": {},
   "source": [
    "## 2.2 Nodes"
   ]
  },
  {
   "cell_type": "code",
   "execution_count": 5,
   "metadata": {
    "collapsed": false
   },
   "outputs": [
    {
     "data": {
      "text/plain": [
       "\r",
       "\u001b[0mPhylogenetic tree with 2 nodes and 0 branches"
      ]
     },
     "execution_count": 5,
     "metadata": {},
     "output_type": "execute_result"
    }
   ],
   "source": [
    "# Adds a single node to a tree\n",
    "addnode!(tree_demo1)"
   ]
  },
  {
   "cell_type": "code",
   "execution_count": 6,
   "metadata": {
    "collapsed": false
   },
   "outputs": [
    {
     "data": {
      "text/plain": [
       "\r",
       "\u001b[0mPhylogenetic tree with 8 nodes and 0 branches"
      ]
     },
     "execution_count": 6,
     "metadata": {},
     "output_type": "execute_result"
    }
   ],
   "source": [
    "# Adds a specified number of nodes to a tree\n",
    "addnodes!(tree_demo2, 5)"
   ]
  },
  {
   "cell_type": "code",
   "execution_count": 7,
   "metadata": {
    "collapsed": false
   },
   "outputs": [
    {
     "data": {
      "text/plain": [
       "2-element Array{PhyloTrees.Node,1}:\n",
       " \n",
       " "
      ]
     },
     "execution_count": 7,
     "metadata": {},
     "output_type": "execute_result"
    }
   ],
   "source": [
    "# Access or views the nodes of a tree\n",
    "tree_demo1.nodes"
   ]
  },
  {
   "cell_type": "markdown",
   "metadata": {},
   "source": [
    "## 2.3 Branches"
   ]
  },
  {
   "cell_type": "code",
   "execution_count": 8,
   "metadata": {
    "collapsed": false
   },
   "outputs": [
    {
     "data": {
      "text/plain": [
       "\r",
       "\u001b[0mPhylogenetic tree with 2 nodes and 1 branches"
      ]
     },
     "execution_count": 8,
     "metadata": {},
     "output_type": "execute_result"
    }
   ],
   "source": [
    "# Adds a branch between a source and target node, of a specified length to a tree\n",
    "addbranch!(tree_demo1, 1, 2, 10.0)"
   ]
  },
  {
   "cell_type": "code",
   "execution_count": 9,
   "metadata": {
    "collapsed": false
   },
   "outputs": [
    {
     "data": {
      "text/plain": [
       "\r",
       "\u001b[0mPhylogenetic tree with 3 nodes and 2 branches"
      ]
     },
     "execution_count": 9,
     "metadata": {},
     "output_type": "execute_result"
    }
   ],
   "source": [
    "# Attaches a branch of a specified length to a source node, which terminates to a new node\n",
    "branch!(tree_demo1, 1, 5.0)"
   ]
  },
  {
   "cell_type": "code",
   "execution_count": 10,
   "metadata": {
    "collapsed": false
   },
   "outputs": [
    {
     "data": {
      "text/plain": [
       "2-element Array{PhyloTrees.Branch,1}:\n",
       " \r",
       "\u001b[0m[node 1]-->[\u001b[1m10.0 branch\u001b[0m]-->[node 2]\n",
       " \r",
       "\u001b[0m[node 1]-->[\u001b[1m5.0 branch\u001b[0m]-->[node 3] "
      ]
     },
     "execution_count": 10,
     "metadata": {},
     "output_type": "execute_result"
    }
   ],
   "source": [
    "# Access or view the `branches` contained within a tree`\n",
    "tree_demo1.branches"
   ]
  },
  {
   "cell_type": "markdown",
   "metadata": {},
   "source": [
    "## 2.4 Subtrees"
   ]
  },
  {
   "cell_type": "code",
   "execution_count": 11,
   "metadata": {
    "collapsed": false
   },
   "outputs": [
    {
     "data": {
      "text/plain": [
       "\r",
       "\u001b[0mPhylogenetic tree with 3 nodes and 2 branches"
      ]
     },
     "execution_count": 11,
     "metadata": {},
     "output_type": "execute_result"
    }
   ],
   "source": [
    "# Extracts the subtree from a specified node in an exisiting tree\n",
    "subtree_demo1 = subtree(tree_demo1, 1)"
   ]
  },
  {
   "cell_type": "code",
   "execution_count": 12,
   "metadata": {
    "collapsed": false
   },
   "outputs": [
    {
     "data": {
      "text/plain": [
       "\r",
       "\u001b[0mPhylogenetic tree with 6 nodes and 5 branches"
      ]
     },
     "execution_count": 12,
     "metadata": {},
     "output_type": "execute_result"
    }
   ],
   "source": [
    "# Adds a subtree to an existing tree\n",
    "addsubtree!(tree_demo1, subtree_demo1)\n",
    "\n",
    "# Adds a branch of a specified length connecting the newly added subtree\n",
    "addbranch!(tree_demo1, 2, 4, 17.0)"
   ]
  },
  {
   "cell_type": "markdown",
   "metadata": {},
   "source": [
    "# 3.0 Utilities"
   ]
  },
  {
   "cell_type": "markdown",
   "metadata": {},
   "source": [
    "## 3.1 Node types"
   ]
  },
  {
   "cell_type": "code",
   "execution_count": 13,
   "metadata": {
    "collapsed": false
   },
   "outputs": [
    {
     "data": {
      "text/plain": [
       "3-element Array{Bool,1}:\n",
       "  true\n",
       " false\n",
       " false"
      ]
     },
     "execution_count": 13,
     "metadata": {},
     "output_type": "execute_result"
    }
   ],
   "source": [
    "# Determines if a node is a root, leaf, or internal node respectively\n",
    "[isroot(tree_demo1, 1), \n",
    " isleaf(tree_demo1, 1),\n",
    " isnode(tree_demo1, 1)]"
   ]
  },
  {
   "cell_type": "code",
   "execution_count": 14,
   "metadata": {
    "collapsed": false
   },
   "outputs": [
    {
     "data": {
      "text/plain": [
       "\"Root\""
      ]
     },
     "execution_count": 14,
     "metadata": {},
     "output_type": "execute_result"
    }
   ],
   "source": [
    "# Returns the type of node (root node, leaf node, or internal node)\n",
    "nodetype(tree_demo1, 1)"
   ]
  },
  {
   "cell_type": "code",
   "execution_count": 15,
   "metadata": {
    "collapsed": false
   },
   "outputs": [
    {
     "name": "stdout",
     "output_type": "stream",
     "text": [
      "Roots: [1]\n",
      "Leaves: [3,5,6]\n",
      "Nodes: [2,4]\n"
     ]
    }
   ],
   "source": [
    "# Determine which nodes are roots, leaves, or internal nodes respectively\n",
    "println(\"Roots: $(findroots(tree_demo1))\")\n",
    "println(\"Leaves: $(findleaves(tree_demo1))\")\n",
    "println(\"Nodes: $(findnodes(tree_demo1))\")\n"
   ]
  },
  {
   "cell_type": "code",
   "execution_count": 16,
   "metadata": {
    "collapsed": false
   },
   "outputs": [
    {
     "data": {
      "text/plain": [
       "15.0"
      ]
     },
     "execution_count": 16,
     "metadata": {},
     "output_type": "execute_result"
    }
   ],
   "source": [
    "# Calculates the branch distance between any two nodes on a tree\n",
    "distance(tree_demo1, 2, 3)"
   ]
  },
  {
   "cell_type": "markdown",
   "metadata": {},
   "source": [
    "## 3.2 Node relationships"
   ]
  },
  {
   "cell_type": "code",
   "execution_count": 17,
   "metadata": {
    "collapsed": false
   },
   "outputs": [
    {
     "data": {
      "text/plain": [
       "true"
      ]
     },
     "execution_count": 17,
     "metadata": {},
     "output_type": "execute_result"
    }
   ],
   "source": [
    "# Determines if two nodes are connected either directly or indirectly\n",
    "areconnected(tree_demo1, 1, 2)"
   ]
  },
  {
   "cell_type": "code",
   "execution_count": 18,
   "metadata": {
    "collapsed": false
   },
   "outputs": [
    {
     "data": {
      "text/plain": [
       "2-element Array{Int64,1}:\n",
       " 1\n",
       " 2"
      ]
     },
     "execution_count": 18,
     "metadata": {},
     "output_type": "execute_result"
    }
   ],
   "source": [
    "# If two nodes are connected, determines the \"node path\" which connects them\n",
    "nodepath(tree_demo1, 1, 2)"
   ]
  },
  {
   "cell_type": "code",
   "execution_count": 19,
   "metadata": {
    "collapsed": false
   },
   "outputs": [
    {
     "data": {
      "text/plain": [
       "1-element Array{Any,1}:\n",
       " 1"
      ]
     },
     "execution_count": 19,
     "metadata": {},
     "output_type": "execute_result"
    }
   ],
   "source": [
    "# If two nodes are connected, determines the \"branch path\" which connects them\n",
    "branchpath(tree_demo1, 1, 2)"
   ]
  },
  {
   "cell_type": "code",
   "execution_count": 20,
   "metadata": {
    "collapsed": false
   },
   "outputs": [
    {
     "data": {
      "text/plain": [
       "1"
      ]
     },
     "execution_count": 20,
     "metadata": {},
     "output_type": "execute_result"
    }
   ],
   "source": [
    "# Lists the parent node associated with a specified node\n",
    "parentnode(tree_demo1, 2)"
   ]
  },
  {
   "cell_type": "code",
   "execution_count": 21,
   "metadata": {
    "collapsed": false
   },
   "outputs": [
    {
     "data": {
      "text/plain": [
       "1-element Array{Int64,1}:\n",
       " 1"
      ]
     },
     "execution_count": 21,
     "metadata": {},
     "output_type": "execute_result"
    }
   ],
   "source": [
    "# Lists all the ancestor nodes associated with a specified node\n",
    "ancestornodes(tree_demo1, 2)"
   ]
  },
  {
   "cell_type": "code",
   "execution_count": 22,
   "metadata": {
    "collapsed": false
   },
   "outputs": [
    {
     "data": {
      "text/plain": [
       "1"
      ]
     },
     "execution_count": 22,
     "metadata": {},
     "output_type": "execute_result"
    }
   ],
   "source": [
    "# Lists the number of ancestors a specified node has\n",
    "ancestorcount(tree_demo1, 2)"
   ]
  },
  {
   "cell_type": "code",
   "execution_count": 23,
   "metadata": {
    "collapsed": false
   },
   "outputs": [
    {
     "data": {
      "text/plain": [
       "2-element Array{Int64,1}:\n",
       " 2\n",
       " 3"
      ]
     },
     "execution_count": 23,
     "metadata": {},
     "output_type": "execute_result"
    }
   ],
   "source": [
    "# Lists all the child nodes associated with a specified node\n",
    "childnodes(tree_demo1, 1)"
   ]
  },
  {
   "cell_type": "code",
   "execution_count": 24,
   "metadata": {
    "collapsed": false
   },
   "outputs": [
    {
     "data": {
      "text/plain": [
       "5-element Array{Int64,1}:\n",
       " 2\n",
       " 3\n",
       " 4\n",
       " 5\n",
       " 6"
      ]
     },
     "execution_count": 24,
     "metadata": {},
     "output_type": "execute_result"
    }
   ],
   "source": [
    "# Lists all the descendant nodes associated with a specified node\n",
    "descendantnodes(tree_demo1, 1)"
   ]
  },
  {
   "cell_type": "code",
   "execution_count": 25,
   "metadata": {
    "collapsed": false
   },
   "outputs": [
    {
     "data": {
      "text/plain": [
       "5"
      ]
     },
     "execution_count": 25,
     "metadata": {},
     "output_type": "execute_result"
    }
   ],
   "source": [
    "# Lists the number of descendants a specified node has\n",
    "descendantcount(tree_demo1, 1)"
   ]
  },
  {
   "cell_type": "markdown",
   "metadata": {},
   "source": [
    "# 4.0 Plotting"
   ]
  },
  {
   "cell_type": "code",
   "execution_count": 26,
   "metadata": {
    "collapsed": false
   },
   "outputs": [
    {
     "name": "stdout",
     "output_type": "stream",
     "text": [
      "[Plots.jl] Initializing backend: pyplot\n"
     ]
    },
    {
     "data": {
      "text/html": [
       "<img src=\"data:image/png;base64,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\" />"
      ]
     },
     "execution_count": 26,
     "metadata": {},
     "output_type": "execute_result"
    }
   ],
   "source": [
    "# We'll increase tree complexity a bit first...\n",
    "branch!(tree_demo1, 2, 8.0)\n",
    "addsubtree!(tree_demo1, subtree(tree_demo1, 1))\n",
    "addbranch!(tree_demo1, 3, 8, 11.0)\n",
    "branch!(tree_demo1, 3, 21.0)\n",
    "\n",
    "# Plots the tree\n",
    "using Plots\n",
    "pyplot()\n",
    "plot(tree_demo1)"
   ]
  },
  {
   "cell_type": "markdown",
   "metadata": {},
   "source": [
    "# 5.0 Simulation"
   ]
  },
  {
   "cell_type": "code",
   "execution_count": 27,
   "metadata": {
    "collapsed": false
   },
   "outputs": [
    {
     "data": {
      "text/plain": [
       "15-element Array{PhyloTrees.Node,1}:\n",
       " \r",
       "\u001b[0m[\u001b[1mroot node\u001b[0m]-->[branch 1]\n",
       "\u001b[0m           -->[branch 2]                                    \n",
       " \r",
       "\u001b[0m[branch 1]-->[\u001b[1minternal node\u001b[0m]-->[branch 5]\n",
       "\u001b[0m                            -->[branch 6]  \n",
       " \r",
       "\u001b[0m[branch 2]-->[\u001b[1minternal node\u001b[0m]-->[branch 13]\n",
       "\u001b[0m                            -->[branch 14]\n",
       " \r",
       "\u001b[0m[branch 5]-->[\u001b[1minternal node\u001b[0m]-->[branch 3]\n",
       "\u001b[0m                            -->[branch 4]  \n",
       " \r",
       "\u001b[0m[branch 3]-->[\u001b[1mleaf node\u001b[0m]                                                                 \n",
       " \r",
       "\u001b[0m[branch 4]-->[\u001b[1mleaf node\u001b[0m]                                                                 \n",
       " \r",
       "\u001b[0m[branch 6]-->[\u001b[1mleaf node\u001b[0m]                                                                 \n",
       " \r",
       "\u001b[0m[branch 13]-->[\u001b[1minternal node\u001b[0m]-->[branch 7]\n",
       "\u001b[0m                             -->[branch 8]\n",
       " \r",
       "\u001b[0m[branch 7]-->[\u001b[1minternal node\u001b[0m]-->[branch 9]\n",
       "\u001b[0m                            -->[branch 10] \n",
       " \r",
       "\u001b[0m[branch 8]-->[\u001b[1mleaf node\u001b[0m]                                                                 \n",
       " \r",
       "\u001b[0m[branch 9]-->[\u001b[1minternal node\u001b[0m]-->[branch 11]\n",
       "\u001b[0m                            -->[branch 12]\n",
       " \r",
       "\u001b[0m[branch 10]-->[\u001b[1mleaf node\u001b[0m]                                                                \n",
       " \r",
       "\u001b[0m[branch 11]-->[\u001b[1mleaf node\u001b[0m]                                                                \n",
       " \r",
       "\u001b[0m[branch 12]-->[\u001b[1mleaf node\u001b[0m]                                                                \n",
       " \r",
       "\u001b[0m[branch 14]-->[\u001b[1mleaf node\u001b[0m]                                                                "
      ]
     },
     "execution_count": 27,
     "metadata": {},
     "output_type": "execute_result"
    }
   ],
   "source": [
    "tree_demo1.nodes"
   ]
  },
  {
   "cell_type": "markdown",
   "metadata": {},
   "source": [
    "## 5.1 Substitution models"
   ]
  },
  {
   "cell_type": "code",
   "execution_count": 28,
   "metadata": {
    "collapsed": false
   },
   "outputs": [
    {
     "data": {
      "text/plain": [
       "\r",
       "\u001b[0m\u001b[1mJ\u001b[0mukes and \u001b[1mC\u001b[0mantor 19\u001b[1m69\u001b[0m substitution model\n",
       "\n",
       "4x4 Array{Float64,2}:\n",
       " -3.0   1.0   1.0   1.0\n",
       "  1.0  -3.0   1.0   1.0\n",
       "  1.0   1.0  -3.0   1.0\n",
       "  1.0   1.0   1.0  -3.0"
      ]
     },
     "execution_count": 28,
     "metadata": {},
     "output_type": "execute_result"
    }
   ],
   "source": [
    "# Generates the relative rate formulation of the JC69 substitution model \n",
    "JC69_demo = JC69()\n",
    "\n",
    "# See PhyloTrees/src/mutation/ for several additional substitution models"
   ]
  },
  {
   "cell_type": "markdown",
   "metadata": {},
   "source": [
    "## 5.2 DNA sequence generation"
   ]
  },
  {
   "cell_type": "code",
   "execution_count": 29,
   "metadata": {
    "collapsed": false
   },
   "outputs": [
    {
     "data": {
      "text/plain": [
       "4x1000x15 Array{Bool,3}:\n",
       "[:, :, 1] =\n",
       "  true  false  false  false  false  …  false  false  false  false  false\n",
       " false   true   true   true  false     false   true  false  false   true\n",
       " false  false  false  false   true      true  false  false  false  false\n",
       " false  false  false  false  false     false  false   true   true  false\n",
       "\n",
       "[:, :, 2] =\n",
       "  true  false   true  false  false  …  false   true  false  false  false\n",
       " false  false  false  false  false     false  false   true   true  false\n",
       " false   true  false  false   true      true  false  false  false   true\n",
       " false  false  false   true  false     false  false  false  false  false\n",
       "\n",
       "[:, :, 3] =\n",
       " false  false  false  false  false  …  false  false   true   true  false\n",
       " false  false   true   true  false      true  false  false  false  false\n",
       "  true  false  false  false   true     false  false  false  false   true\n",
       " false   true  false  false  false     false   true  false  false  false\n",
       "\n",
       "...\n",
       "\n",
       "[:, :, 13] =\n",
       "  true  false  false  false   true  …   true  false  false  false   true\n",
       " false  false  false  false  false     false   true  false  false  false\n",
       " false   true  false  false  false     false  false   true   true  false\n",
       " false  false   true   true  false     false  false  false  false  false\n",
       "\n",
       "[:, :, 14] =\n",
       " false  false  false  false   true  …  false  false  false   true   true\n",
       " false  false  false   true  false     false  false   true  false  false\n",
       "  true   true   true  false  false     false   true  false  false  false\n",
       " false  false  false  false  false      true  false  false  false  false\n",
       "\n",
       "[:, :, 15] =\n",
       "  true  false  false   true  false  …   true   true  false  false  false\n",
       " false  false   true  false   true     false  false  false   true  false\n",
       " false  false  false  false  false     false  false   true  false   true\n",
       " false   true  false  false  false     false  false  false  false  false"
      ]
     },
     "execution_count": 29,
     "metadata": {},
     "output_type": "execute_result"
    }
   ],
   "source": [
    "# Generates DNA sequence data for nodes of a tree.\n",
    "seqdemo = simulate(tree_demo1, JC69_demo, 1000)\n",
    "\n",
    "# DNA sequences are represented as 4 by N bit arrays for each node.\n",
    "\n",
    "# The initial (root) sequence may be specified or generated.\n",
    "\n",
    "# Site rates may be constant or variable. \n",
    "\n",
    "# If the initial sequence is to be generated, the base frequencies \n",
    "# of the supplied substitution model are utilized."
   ]
  }
 ],
 "metadata": {
  "kernelspec": {
   "display_name": "Julia 0.4.5",
   "language": "julia",
   "name": "julia-0.4"
  },
  "language_info": {
   "file_extension": ".jl",
   "mimetype": "application/julia",
   "name": "julia",
   "version": "0.4.5"
  }
 },
 "nbformat": 4,
 "nbformat_minor": 0
}
