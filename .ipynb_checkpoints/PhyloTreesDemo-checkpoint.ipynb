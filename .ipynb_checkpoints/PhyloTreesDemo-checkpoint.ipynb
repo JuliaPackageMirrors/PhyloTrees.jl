{
 "cells": [
  {
   "cell_type": "markdown",
   "metadata": {},
   "source": [
    "### Load the `PhyloTrees.jl` package"
   ]
  },
  {
   "cell_type": "code",
   "execution_count": 1,
   "metadata": {
    "collapsed": true
   },
   "outputs": [],
   "source": [
    "using PhyloTrees"
   ]
  },
  {
   "cell_type": "markdown",
   "metadata": {},
   "source": [
    "### Initialize a phylogenetic `Tree` with a single root `Node`"
   ]
  },
  {
   "cell_type": "code",
   "execution_count": 2,
   "metadata": {
    "collapsed": false
   },
   "outputs": [
    {
     "data": {
      "text/plain": [
       "\r",
       "\u001b[0mPhylogenetic tree with 1 nodes and 0 branches"
      ]
     },
     "execution_count": 2,
     "metadata": {},
     "output_type": "execute_result"
    }
   ],
   "source": [
    "treedemo = Tree()"
   ]
  },
  {
   "cell_type": "markdown",
   "metadata": {},
   "source": [
    "### Add an unattached `Node`"
   ]
  },
  {
   "cell_type": "code",
   "execution_count": 3,
   "metadata": {
    "collapsed": false
   },
   "outputs": [
    {
     "data": {
      "text/plain": [
       "\r",
       "\u001b[0mPhylogenetic tree with 2 nodes and 0 branches"
      ]
     },
     "execution_count": 3,
     "metadata": {},
     "output_type": "execute_result"
    }
   ],
   "source": [
    "addnode!(treedemo)"
   ]
  },
  {
   "cell_type": "markdown",
   "metadata": {},
   "source": [
    "### Add a `Branch` between the root `Node` and the unattached `Node`"
   ]
  },
  {
   "cell_type": "code",
   "execution_count": 4,
   "metadata": {
    "collapsed": false
   },
   "outputs": [
    {
     "data": {
      "text/plain": [
       "\r",
       "\u001b[0mPhylogenetic tree with 2 nodes and 1 branches"
      ]
     },
     "execution_count": 4,
     "metadata": {},
     "output_type": "execute_result"
    }
   ],
   "source": [
    "addbranch!(treedemo, 1, 2, 10.0)"
   ]
  },
  {
   "cell_type": "markdown",
   "metadata": {},
   "source": [
    "### A phylogenetic `Tree` may also be constructed by adding a `Branch` and `Node` in a single step"
   ]
  },
  {
   "cell_type": "code",
   "execution_count": 5,
   "metadata": {
    "collapsed": false
   },
   "outputs": [
    {
     "data": {
      "text/plain": [
       "\r",
       "\u001b[0mPhylogenetic tree with 3 nodes and 2 branches"
      ]
     },
     "execution_count": 5,
     "metadata": {},
     "output_type": "execute_result"
    }
   ],
   "source": [
    "branch!(treedemo, 1, 5.0)"
   ]
  },
  {
   "cell_type": "markdown",
   "metadata": {},
   "source": [
    "### A subtree may be extracted from any point within a `Tree`"
   ]
  },
  {
   "cell_type": "code",
   "execution_count": 6,
   "metadata": {
    "collapsed": false
   },
   "outputs": [
    {
     "data": {
      "text/plain": [
       "\r",
       "\u001b[0mPhylogenetic tree with 3 nodes and 2 branches"
      ]
     },
     "execution_count": 6,
     "metadata": {},
     "output_type": "execute_result"
    }
   ],
   "source": [
    "subtreedemo = subtree(treedemo, 1)"
   ]
  },
  {
   "cell_type": "markdown",
   "metadata": {},
   "source": [
    "### We can add entire subtrees to a phylogenetic `Tree`"
   ]
  },
  {
   "cell_type": "code",
   "execution_count": 7,
   "metadata": {
    "collapsed": false
   },
   "outputs": [
    {
     "data": {
      "text/plain": [
       "\r",
       "\u001b[0mPhylogenetic tree with 6 nodes and 5 branches"
      ]
     },
     "execution_count": 7,
     "metadata": {},
     "output_type": "execute_result"
    }
   ],
   "source": [
    "addsubtree!(treedemo, subtreedemo)\n",
    "addbranch!(treedemo, 2, 4, 17.0)"
   ]
  },
  {
   "cell_type": "markdown",
   "metadata": {},
   "source": [
    "### `Tree` objects have `nodes` and `branches` fields; we can view each of these"
   ]
  },
  {
   "cell_type": "code",
   "execution_count": 8,
   "metadata": {
    "collapsed": false
   },
   "outputs": [
    {
     "data": {
      "text/plain": [
       "6-element Array{PhyloTrees.Node,1}:\n",
       " \r",
       "\u001b[0m[\u001b[1mroot node\u001b[0m]-->[branch 1]\n",
       "\u001b[0m           -->[branch 2]                                  \n",
       " \r",
       "\u001b[0m[branch 1]-->[\u001b[1minternal node\u001b[0m]-->[branch 5]                                              \n",
       " \r",
       "\u001b[0m[branch 2]-->[\u001b[1mleaf node\u001b[0m]                                                               \n",
       " \r",
       "\u001b[0m[branch 5]-->[\u001b[1minternal node\u001b[0m]-->[branch 3]\n",
       "\u001b[0m                            -->[branch 4]\n",
       " \r",
       "\u001b[0m[branch 3]-->[\u001b[1mleaf node\u001b[0m]                                                               \n",
       " \r",
       "\u001b[0m[branch 4]-->[\u001b[1mleaf node\u001b[0m]                                                               "
      ]
     },
     "execution_count": 8,
     "metadata": {},
     "output_type": "execute_result"
    }
   ],
   "source": [
    "treedemo.nodes"
   ]
  },
  {
   "cell_type": "code",
   "execution_count": 9,
   "metadata": {
    "collapsed": false
   },
   "outputs": [
    {
     "data": {
      "text/plain": [
       "5-element Array{PhyloTrees.Branch,1}:\n",
       " \r",
       "\u001b[0m[node 1]-->[\u001b[1m10.0 branch\u001b[0m]-->[node 2]\n",
       " \r",
       "\u001b[0m[node 1]-->[\u001b[1m5.0 branch\u001b[0m]-->[node 3] \n",
       " \r",
       "\u001b[0m[node 4]-->[\u001b[1m10.0 branch\u001b[0m]-->[node 5]\n",
       " \r",
       "\u001b[0m[node 4]-->[\u001b[1m5.0 branch\u001b[0m]-->[node 6] \n",
       " \r",
       "\u001b[0m[node 2]-->[\u001b[1m17.0 branch\u001b[0m]-->[node 4]"
      ]
     },
     "execution_count": 9,
     "metadata": {},
     "output_type": "execute_result"
    }
   ],
   "source": [
    "treedemo.branches"
   ]
  },
  {
   "cell_type": "markdown",
   "metadata": {},
   "source": [
    "### The distance between any two `Node`s can be calculated"
   ]
  },
  {
   "cell_type": "code",
   "execution_count": 10,
   "metadata": {
    "collapsed": false
   },
   "outputs": [
    {
     "data": {
      "text/plain": [
       "15.0"
      ]
     },
     "execution_count": 10,
     "metadata": {},
     "output_type": "execute_result"
    }
   ],
   "source": [
    "distance(treedemo, 2, 3)"
   ]
  },
  {
   "cell_type": "markdown",
   "metadata": {},
   "source": [
    "### There are several `SubstitutionModel`s available in `PhyloTrees.jl`, the least complex being the relative rate form of the `JC69` model"
   ]
  },
  {
   "cell_type": "code",
   "execution_count": 11,
   "metadata": {
    "collapsed": false
   },
   "outputs": [
    {
     "data": {
      "text/plain": [
       "\r",
       "\u001b[0m\u001b[1mJ\u001b[0mukes and \u001b[1mC\u001b[0mantor 19\u001b[1m69\u001b[0m substitution model\n",
       "\n",
       "4x4 Array{Float64,2}:\n",
       " -3.0   1.0   1.0   1.0\n",
       "  1.0  -3.0   1.0   1.0\n",
       "  1.0   1.0  -3.0   1.0\n",
       "  1.0   1.0   1.0  -3.0"
      ]
     },
     "execution_count": 11,
     "metadata": {},
     "output_type": "execute_result"
    }
   ],
   "source": [
    "moddemo = JC69()"
   ]
  },
  {
   "cell_type": "markdown",
   "metadata": {},
   "source": [
    "### Sequence data can be generated (represented as a 4 by N bit array for each `Node`), for a specified `Tree` and `SubstitutionModel`. The initial sequence may be specified or generated. Site rates may be constant or variable. If the initial sequence is to be generated, the base frequencies of the supplied `SubstitutionModel` are used for this purpose by default."
   ]
  },
  {
   "cell_type": "code",
   "execution_count": 12,
   "metadata": {
    "collapsed": false
   },
   "outputs": [
    {
     "data": {
      "text/plain": [
       "4x1000x6 Array{Bool,3}:\n",
       "[:, :, 1] =\n",
       " false  false  false  false   true  …  false  false   true  false  false\n",
       "  true  false  false  false  false      true  false  false  false  false\n",
       " false  false  false  false  false     false  false  false  false   true\n",
       " false   true   true   true  false     false   true  false   true  false\n",
       "\n",
       "[:, :, 2] =\n",
       " false  false  false   true  false  …   true  false  false  false  false\n",
       "  true  false  false  false   true     false  false  false   true   true\n",
       " false  false   true  false  false     false  false  false  false  false\n",
       " false   true  false  false  false     false   true   true  false  false\n",
       "\n",
       "[:, :, 3] =\n",
       "  true  false   true   true  false  …  false  false  false  false  false\n",
       " false   true  false  false   true      true  false  false  false  false\n",
       " false  false  false  false  false     false   true   true   true   true\n",
       " false  false  false  false  false     false  false  false  false  false\n",
       "\n",
       "[:, :, 4] =\n",
       " false  false  false  false  false  …  false  false  false   true  false\n",
       " false  false  false   true   true     false   true  false  false  false\n",
       " false   true   true  false  false     false  false  false  false  false\n",
       "  true  false  false  false  false      true  false   true  false   true\n",
       "\n",
       "[:, :, 5] =\n",
       " false  false  false  false  false  …  false   true  false  false  false\n",
       " false  false  false   true   true     false  false   true  false   true\n",
       "  true  false  false  false  false      true  false  false  false  false\n",
       " false   true   true  false  false     false  false  false   true  false\n",
       "\n",
       "[:, :, 6] =\n",
       " false   true   true   true  false  …  false  false  false  false  false\n",
       " false  false  false  false   true      true   true  false   true  false\n",
       " false  false  false  false  false     false  false   true  false  false\n",
       "  true  false  false  false  false     false  false  false  false   true"
      ]
     },
     "execution_count": 12,
     "metadata": {},
     "output_type": "execute_result"
    }
   ],
   "source": [
    "seqdemo = simulate(treedemo, moddemo, 1000)"
   ]
  }
 ],
 "metadata": {
  "kernelspec": {
   "display_name": "Julia 0.4.5",
   "language": "julia",
   "name": "julia-0.4"
  },
  "language_info": {
   "file_extension": ".jl",
   "mimetype": "application/julia",
   "name": "julia",
   "version": "0.4.5"
  }
 },
 "nbformat": 4,
 "nbformat_minor": 0
}
